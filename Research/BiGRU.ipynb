{
 "cells": [
  {
   "cell_type": "code",
   "execution_count": 1,
   "id": "81ec9808",
   "metadata": {},
   "outputs": [
    {
     "name": "stderr",
     "output_type": "stream",
     "text": [
      "[nltk_data] Downloading package stopwords to\n",
      "[nltk_data]     C:\\Users\\a.n.piskunov\\AppData\\Roaming\\nltk_data...\n",
      "[nltk_data]   Package stopwords is already up-to-date!\n"
     ]
    }
   ],
   "source": [
    "import csv\n",
    "import tensorflow as tf\n",
    "import pandas as pd\n",
    "import numpy as np\n",
    "import matplotlib.pyplot as plt\n",
    "import seaborn as sns\n",
    "import re\n",
    "from tensorflow.keras.preprocessing.text import Tokenizer\n",
    "from tensorflow.keras.preprocessing.sequence import pad_sequences\n",
    "from tensorflow.keras.models import Sequential\n",
    "from tensorflow.keras.layers import Dense, Flatten, LSTM, Dropout, Activation, Embedding,SimpleRNN,GRU\n",
    "import nltk\n",
    "nltk.download('stopwords')\n",
    "from nltk.corpus import stopwords\n",
    "from nltk import word_tokenize\n",
    "STOPWORDS = set(stopwords.words('russian'))\n",
    "from string import punctuation\n",
    "punct = list(punctuation)\n",
    "from tqdm import tqdm\n",
    "from keras.callbacks import ReduceLROnPlateau,EarlyStopping\n",
    "from sklearn.metrics import classification_report\n",
    "from sklearn.metrics import confusion_matrix"
   ]
  },
  {
   "cell_type": "code",
   "execution_count": 2,
   "id": "707f71ce",
   "metadata": {},
   "outputs": [],
   "source": [
    "data = pd.read_csv(r'C:\\Users\\a.n.piskunov\\Downloads\\for-teams\\payments_training.tsv', sep='\\t', names=['date', 'price', 'text', 'category'])"
   ]
  },
  {
   "cell_type": "code",
   "execution_count": 3,
   "id": "5b6f28b5",
   "metadata": {},
   "outputs": [
    {
     "data": {
      "text/html": [
       "<div>\n",
       "<style scoped>\n",
       "    .dataframe tbody tr th:only-of-type {\n",
       "        vertical-align: middle;\n",
       "    }\n",
       "\n",
       "    .dataframe tbody tr th {\n",
       "        vertical-align: top;\n",
       "    }\n",
       "\n",
       "    .dataframe thead th {\n",
       "        text-align: right;\n",
       "    }\n",
       "</style>\n",
       "<table border=\"1\" class=\"dataframe\">\n",
       "  <thead>\n",
       "    <tr style=\"text-align: right;\">\n",
       "      <th></th>\n",
       "      <th>date</th>\n",
       "      <th>price</th>\n",
       "      <th>text</th>\n",
       "      <th>category</th>\n",
       "    </tr>\n",
       "  </thead>\n",
       "  <tbody>\n",
       "    <tr>\n",
       "      <th>1</th>\n",
       "      <td>07.11.2024</td>\n",
       "      <td>15300.00</td>\n",
       "      <td>За участие в конференции в г. Майкоп по догово...</td>\n",
       "      <td>SERVICE</td>\n",
       "    </tr>\n",
       "    <tr>\n",
       "      <th>2</th>\n",
       "      <td>07.11.2024</td>\n",
       "      <td>40200,00</td>\n",
       "      <td>За оказание услуг по договору №79-02726В от 01...</td>\n",
       "      <td>SERVICE</td>\n",
       "    </tr>\n",
       "    <tr>\n",
       "      <th>3</th>\n",
       "      <td>07.11.2024</td>\n",
       "      <td>1440-00</td>\n",
       "      <td>Оплата за Порошок стиральный Ariel Color autom...</td>\n",
       "      <td>NON_FOOD_GOODS</td>\n",
       "    </tr>\n",
       "    <tr>\n",
       "      <th>4</th>\n",
       "      <td>07.11.2024</td>\n",
       "      <td>240000000-00</td>\n",
       "      <td>Возврат денежных средств по договору займа №04...</td>\n",
       "      <td>LOAN</td>\n",
       "    </tr>\n",
       "    <tr>\n",
       "      <th>5</th>\n",
       "      <td>07.11.2024</td>\n",
       "      <td>1360000.00</td>\n",
       "      <td>Оплата Дог №452 от 13/03/2021, согл. Сч 0745-2...</td>\n",
       "      <td>NOT_CLASSIFIED</td>\n",
       "    </tr>\n",
       "  </tbody>\n",
       "</table>\n",
       "</div>"
      ],
      "text/plain": [
       "         date         price  \\\n",
       "1  07.11.2024      15300.00   \n",
       "2  07.11.2024      40200,00   \n",
       "3  07.11.2024       1440-00   \n",
       "4  07.11.2024  240000000-00   \n",
       "5  07.11.2024    1360000.00   \n",
       "\n",
       "                                                text        category  \n",
       "1  За участие в конференции в г. Майкоп по догово...         SERVICE  \n",
       "2  За оказание услуг по договору №79-02726В от 01...         SERVICE  \n",
       "3  Оплата за Порошок стиральный Ariel Color autom...  NON_FOOD_GOODS  \n",
       "4  Возврат денежных средств по договору займа №04...            LOAN  \n",
       "5  Оплата Дог №452 от 13/03/2021, согл. Сч 0745-2...  NOT_CLASSIFIED  "
      ]
     },
     "execution_count": 3,
     "metadata": {},
     "output_type": "execute_result"
    }
   ],
   "source": [
    "data.head()"
   ]
  },
  {
   "cell_type": "code",
   "execution_count": 4,
   "id": "1b260ae2",
   "metadata": {},
   "outputs": [],
   "source": [
    "articles=data['text'].to_list()\n",
    "labels=data['category'].to_list()"
   ]
  },
  {
   "cell_type": "code",
   "execution_count": 5,
   "id": "9af6363f",
   "metadata": {},
   "outputs": [],
   "source": [
    "only_text_regex = r'[^а-яА-ЯёЁ]+'\n",
    "stop_words = set(stopwords.words('russian'))\n",
    "\n",
    "\n",
    "def clean_text(text):\n",
    "    text = re.sub(only_text_regex, ' ', text)\n",
    "    text = ' '.join([word for word in text.split() if word.lower() not in stop_words])\n",
    "    \n",
    "    return text"
   ]
  },
  {
   "cell_type": "code",
   "execution_count": 6,
   "id": "10f79696",
   "metadata": {},
   "outputs": [
    {
     "name": "stderr",
     "output_type": "stream",
     "text": [
      "100%|████████████████████████████████████████████████████████████████████████████| 500/500 [00:00<00:00, 167183.67it/s]\n"
     ]
    }
   ],
   "source": [
    "for i in tqdm(range(len(articles))):\n",
    "    articles[i]=clean_text(articles[i])"
   ]
  },
  {
   "cell_type": "code",
   "execution_count": 7,
   "id": "76f66236",
   "metadata": {},
   "outputs": [],
   "source": [
    "vocab_size =5000\n",
    "embedding_dim =64\n",
    "max_length =200\n",
    "oov_tok = '<OOV>' \n",
    "training_portion = 0.8"
   ]
  },
  {
   "cell_type": "code",
   "execution_count": 8,
   "id": "44ce31e9",
   "metadata": {},
   "outputs": [],
   "source": [
    "train_size = int(len(articles) * training_portion)\n",
    "train_articles = articles[0: train_size]\n",
    "train_labels = labels[0: train_size]\n",
    "validation_articles = articles[train_size:]\n",
    "validation_labels = labels[train_size:]"
   ]
  },
  {
   "cell_type": "code",
   "execution_count": 9,
   "id": "de51ba51",
   "metadata": {},
   "outputs": [
    {
     "name": "stdout",
     "output_type": "stream",
     "text": [
      "train_articles 400\n",
      "train_labels 400\n",
      "validation_articles 100\n",
      "validation_labels 100\n"
     ]
    }
   ],
   "source": [
    "print('train_articles' ,len(train_articles))\n",
    "print('train_labels', len(train_labels))\n",
    "print('validation_articles', len(validation_articles))\n",
    "print('validation_labels', len(validation_labels))"
   ]
  },
  {
   "cell_type": "code",
   "execution_count": 10,
   "id": "7140c790",
   "metadata": {},
   "outputs": [],
   "source": [
    "tokenizer = Tokenizer(num_words = vocab_size)\n",
    "tokenizer.fit_on_texts(train_articles)\n",
    "word_index = tokenizer.word_index"
   ]
  },
  {
   "cell_type": "code",
   "execution_count": 11,
   "id": "f61b669d",
   "metadata": {},
   "outputs": [
    {
     "data": {
      "text/plain": [
       "400"
      ]
     },
     "execution_count": 11,
     "metadata": {},
     "output_type": "execute_result"
    }
   ],
   "source": [
    "train_sequences = tokenizer.texts_to_sequences(train_articles)\n",
    "len(train_sequences)"
   ]
  },
  {
   "cell_type": "code",
   "execution_count": 12,
   "id": "cf7eaf4a",
   "metadata": {},
   "outputs": [],
   "source": [
    "train_padded = pad_sequences(train_sequences, maxlen=max_length)"
   ]
  },
  {
   "cell_type": "code",
   "execution_count": 13,
   "id": "6afe625c",
   "metadata": {},
   "outputs": [
    {
     "data": {
      "text/plain": [
       "(400, 200)"
      ]
     },
     "execution_count": 13,
     "metadata": {},
     "output_type": "execute_result"
    }
   ],
   "source": [
    "len(train_padded),len(train_padded[0])"
   ]
  },
  {
   "cell_type": "code",
   "execution_count": 14,
   "id": "4fbc37e0",
   "metadata": {},
   "outputs": [],
   "source": [
    "validation_sequences = tokenizer.texts_to_sequences(validation_articles)\n",
    "validation_padded = pad_sequences(validation_sequences, maxlen=max_length)"
   ]
  },
  {
   "cell_type": "code",
   "execution_count": 15,
   "id": "0e5fb574",
   "metadata": {},
   "outputs": [
    {
     "name": "stderr",
     "output_type": "stream",
     "text": [
      "9it [00:00, ?it/s]\n"
     ]
    },
    {
     "data": {
      "text/plain": [
       "{'REALE_STATE': 0,\n",
       " 'LEASING': 1,\n",
       " 'NON_FOOD_GOODS': 2,\n",
       " 'SERVICE': 3,\n",
       " 'TAX': 4,\n",
       " 'NOT_CLASSIFIED': 5,\n",
       " 'LOAN': 6,\n",
       " 'BANK_SERVICE': 7,\n",
       " 'FOOD_GOODS': 8}"
      ]
     },
     "execution_count": 15,
     "metadata": {},
     "output_type": "execute_result"
    }
   ],
   "source": [
    "dict_={}\n",
    "for i,x in tqdm(enumerate(set(labels))):\n",
    "    dict_[x]=i\n",
    "dict_"
   ]
  },
  {
   "cell_type": "code",
   "execution_count": 16,
   "id": "1f8d07b1",
   "metadata": {},
   "outputs": [
    {
     "name": "stderr",
     "output_type": "stream",
     "text": [
      "100%|████████████████████████████████████████████████████████████████████████████████████████| 400/400 [00:00<?, ?it/s]\n",
      "100%|█████████████████████████████████████████████████████████████████████████████| 100/100 [00:00<00:00, 50147.11it/s]\n"
     ]
    }
   ],
   "source": [
    "training_label_seq = np.array([dict_[train_labels[i]] for i in tqdm(range(len(train_labels)))])\n",
    "validation_label_seq = np.array([dict_[np.array(validation_labels)[i]] for i in tqdm(range(len(validation_labels)))])\n"
   ]
  },
  {
   "cell_type": "code",
   "execution_count": 17,
   "id": "38e290b5",
   "metadata": {},
   "outputs": [
    {
     "data": {
      "text/plain": [
       "('SERVICE', 3)"
      ]
     },
     "execution_count": 17,
     "metadata": {},
     "output_type": "execute_result"
    }
   ],
   "source": [
    "train_labels[0], training_label_seq[0]\n"
   ]
  },
  {
   "cell_type": "code",
   "execution_count": 18,
   "id": "c7479ece",
   "metadata": {},
   "outputs": [
    {
     "data": {
      "text/plain": [
       "2    82\n",
       "8    74\n",
       "3    65\n",
       "7    38\n",
       "4    33\n",
       "6    33\n",
       "1    31\n",
       "0    23\n",
       "5    21\n",
       "dtype: int64"
      ]
     },
     "execution_count": 18,
     "metadata": {},
     "output_type": "execute_result"
    }
   ],
   "source": [
    "pd.DataFrame(training_label_seq).value_counts()\n"
   ]
  },
  {
   "cell_type": "code",
   "execution_count": 19,
   "id": "4614dfd5",
   "metadata": {},
   "outputs": [
    {
     "data": {
      "text/plain": [
       "3    23\n",
       "8    16\n",
       "4    15\n",
       "2    14\n",
       "7    11\n",
       "6     8\n",
       "1     7\n",
       "0     4\n",
       "5     2\n",
       "dtype: int64"
      ]
     },
     "execution_count": 19,
     "metadata": {},
     "output_type": "execute_result"
    }
   ],
   "source": [
    "pd.DataFrame(validation_label_seq).value_counts()\n"
   ]
  },
  {
   "cell_type": "code",
   "execution_count": 20,
   "id": "4376bb10",
   "metadata": {},
   "outputs": [
    {
     "data": {
      "text/plain": [
       "Text(0, 0.5, 'Count')"
      ]
     },
     "execution_count": 20,
     "metadata": {},
     "output_type": "execute_result"
    },
    {
     "data": {
      "image/png": "[encoded data removed]",
      "text/plain": [
       "<Figure size 2000x500 with 2 Axes>"
      ]
     },
     "metadata": {},
     "output_type": "display_data"
    }
   ],
   "source": [
    "plt.figure(figsize=(20,5))\n",
    "plt.subplot(1,2,1)\n",
    "plt.title(\"Distribution Of Train\",fontsize=20)\n",
    "sns.histplot(training_label_seq,color='red')\n",
    "plt.xlabel('Label',fontsize=20)\n",
    "plt.ylabel(\"Count\",fontsize=20)\n",
    "plt.subplot(1,2,2)\n",
    "plt.title(\"Distribution Of Test\",fontsize=20)\n",
    "sns.histplot(validation_label_seq,color='red')\n",
    "plt.xlabel('Label',fontsize=20)\n",
    "plt.ylabel(\"Count\",fontsize=20)"
   ]
  },
  {
   "cell_type": "code",
   "execution_count": 21,
   "id": "7dccffae",
   "metadata": {},
   "outputs": [
    {
     "data": {
      "text/html": [
       "<pre style=\"white-space:pre;overflow-x:auto;line-height:normal;font-family:Menlo,'DejaVu Sans Mono',consolas,'Courier New',monospace\"><span style=\"font-weight: bold\">Model: \"sequential\"</span>\n",
       "</pre>\n"
      ],
      "text/plain": [
       "\u001b[1mModel: \"sequential\"\u001b[0m\n"
      ]
     },
     "metadata": {},
     "output_type": "display_data"
    },
    {
     "data": {
      "text/html": [
       "<pre style=\"white-space:pre;overflow-x:auto;line-height:normal;font-family:Menlo,'DejaVu Sans Mono',consolas,'Courier New',monospace\">┏━━━━━━━━━━━━━━━━━━━━━━━━━━━━━━━━━━━━━━┳━━━━━━━━━━━━━━━━━━━━━━━━━━━━━┳━━━━━━━━━━━━━━━━━┓\n",
       "┃<span style=\"font-weight: bold\"> Layer (type)                         </span>┃<span style=\"font-weight: bold\"> Output Shape                </span>┃<span style=\"font-weight: bold\">         Param # </span>┃\n",
       "┡━━━━━━━━━━━━━━━━━━━━━━━━━━━━━━━━━━━━━━╇━━━━━━━━━━━━━━━━━━━━━━━━━━━━━╇━━━━━━━━━━━━━━━━━┩\n",
       "│ embedding (<span style=\"color: #0087ff; text-decoration-color: #0087ff\">Embedding</span>)                │ ?                           │     <span style=\"color: #00af00; text-decoration-color: #00af00\">0</span> (unbuilt) │\n",
       "├──────────────────────────────────────┼─────────────────────────────┼─────────────────┤\n",
       "│ dropout (<span style=\"color: #0087ff; text-decoration-color: #0087ff\">Dropout</span>)                    │ ?                           │               <span style=\"color: #00af00; text-decoration-color: #00af00\">0</span> │\n",
       "├──────────────────────────────────────┼─────────────────────────────┼─────────────────┤\n",
       "│ gru (<span style=\"color: #0087ff; text-decoration-color: #0087ff\">GRU</span>)                            │ ?                           │     <span style=\"color: #00af00; text-decoration-color: #00af00\">0</span> (unbuilt) │\n",
       "├──────────────────────────────────────┼─────────────────────────────┼─────────────────┤\n",
       "│ dropout_1 (<span style=\"color: #0087ff; text-decoration-color: #0087ff\">Dropout</span>)                  │ ?                           │               <span style=\"color: #00af00; text-decoration-color: #00af00\">0</span> │\n",
       "├──────────────────────────────────────┼─────────────────────────────┼─────────────────┤\n",
       "│ dense (<span style=\"color: #0087ff; text-decoration-color: #0087ff\">Dense</span>)                        │ ?                           │     <span style=\"color: #00af00; text-decoration-color: #00af00\">0</span> (unbuilt) │\n",
       "└──────────────────────────────────────┴─────────────────────────────┴─────────────────┘\n",
       "</pre>\n"
      ],
      "text/plain": [
       "┏━━━━━━━━━━━━━━━━━━━━━━━━━━━━━━━━━━━━━━┳━━━━━━━━━━━━━━━━━━━━━━━━━━━━━┳━━━━━━━━━━━━━━━━━┓\n",
       "┃\u001b[1m \u001b[0m\u001b[1mLayer (type)                        \u001b[0m\u001b[1m \u001b[0m┃\u001b[1m \u001b[0m\u001b[1mOutput Shape               \u001b[0m\u001b[1m \u001b[0m┃\u001b[1m \u001b[0m\u001b[1m        Param #\u001b[0m\u001b[1m \u001b[0m┃\n",
       "┡━━━━━━━━━━━━━━━━━━━━━━━━━━━━━━━━━━━━━━╇━━━━━━━━━━━━━━━━━━━━━━━━━━━━━╇━━━━━━━━━━━━━━━━━┩\n",
       "│ embedding (\u001b[38;5;33mEmbedding\u001b[0m)                │ ?                           │     \u001b[38;5;34m0\u001b[0m (unbuilt) │\n",
       "├──────────────────────────────────────┼─────────────────────────────┼─────────────────┤\n",
       "│ dropout (\u001b[38;5;33mDropout\u001b[0m)                    │ ?                           │               \u001b[38;5;34m0\u001b[0m │\n",
       "├──────────────────────────────────────┼─────────────────────────────┼─────────────────┤\n",
       "│ gru (\u001b[38;5;33mGRU\u001b[0m)                            │ ?                           │     \u001b[38;5;34m0\u001b[0m (unbuilt) │\n",
       "├──────────────────────────────────────┼─────────────────────────────┼─────────────────┤\n",
       "│ dropout_1 (\u001b[38;5;33mDropout\u001b[0m)                  │ ?                           │               \u001b[38;5;34m0\u001b[0m │\n",
       "├──────────────────────────────────────┼─────────────────────────────┼─────────────────┤\n",
       "│ dense (\u001b[38;5;33mDense\u001b[0m)                        │ ?                           │     \u001b[38;5;34m0\u001b[0m (unbuilt) │\n",
       "└──────────────────────────────────────┴─────────────────────────────┴─────────────────┘\n"
      ]
     },
     "metadata": {},
     "output_type": "display_data"
    },
    {
     "data": {
      "text/html": [
       "<pre style=\"white-space:pre;overflow-x:auto;line-height:normal;font-family:Menlo,'DejaVu Sans Mono',consolas,'Courier New',monospace\"><span style=\"font-weight: bold\"> Total params: </span><span style=\"color: #00af00; text-decoration-color: #00af00\">0</span> (0.00 B)\n",
       "</pre>\n"
      ],
      "text/plain": [
       "\u001b[1m Total params: \u001b[0m\u001b[38;5;34m0\u001b[0m (0.00 B)\n"
      ]
     },
     "metadata": {},
     "output_type": "display_data"
    },
    {
     "data": {
      "text/html": [
       "<pre style=\"white-space:pre;overflow-x:auto;line-height:normal;font-family:Menlo,'DejaVu Sans Mono',consolas,'Courier New',monospace\"><span style=\"font-weight: bold\"> Trainable params: </span><span style=\"color: #00af00; text-decoration-color: #00af00\">0</span> (0.00 B)\n",
       "</pre>\n"
      ],
      "text/plain": [
       "\u001b[1m Trainable params: \u001b[0m\u001b[38;5;34m0\u001b[0m (0.00 B)\n"
      ]
     },
     "metadata": {},
     "output_type": "display_data"
    },
    {
     "data": {
      "text/html": [
       "<pre style=\"white-space:pre;overflow-x:auto;line-height:normal;font-family:Menlo,'DejaVu Sans Mono',consolas,'Courier New',monospace\"><span style=\"font-weight: bold\"> Non-trainable params: </span><span style=\"color: #00af00; text-decoration-color: #00af00\">0</span> (0.00 B)\n",
       "</pre>\n"
      ],
      "text/plain": [
       "\u001b[1m Non-trainable params: \u001b[0m\u001b[38;5;34m0\u001b[0m (0.00 B)\n"
      ]
     },
     "metadata": {},
     "output_type": "display_data"
    }
   ],
   "source": [
    "model = Sequential()\n",
    "model.add(Embedding(vocab_size,embedding_dim))\n",
    "model.add(Dropout(0.5))\n",
    "model.add(GRU(units =32))\n",
    "model.add(Dropout(0.5))\n",
    "model.add(Dense(5,activation='softmax'))\n",
    "model.summary()"
   ]
  },
  {
   "cell_type": "code",
   "execution_count": 22,
   "id": "9ce4b8e2",
   "metadata": {},
   "outputs": [
    {
     "name": "stdout",
     "output_type": "stream",
     "text": [
      "Train padded shape: (400, 200)\n",
      "Training labels shape: (400,)\n",
      "Unique labels in training data: [0 1 2 3 4 5 6 7 8]\n",
      "Epoch 1/50\n"
     ]
    },
    {
     "name": "stderr",
     "output_type": "stream",
     "text": [
      "C:\\ProgramData\\Anaconda\\lib\\site-packages\\keras\\src\\layers\\core\\embedding.py:90: UserWarning: Argument `input_length` is deprecated. Just remove it.\n",
      "  warnings.warn(\n"
     ]
    },
    {
     "name": "stdout",
     "output_type": "stream",
     "text": [
      "\u001b[1m13/13\u001b[0m \u001b[32m━━━━━━━━━━━━━━━━━━━━\u001b[0m\u001b[37m\u001b[0m \u001b[1m5s\u001b[0m 165ms/step - accuracy: 0.2078 - loss: 2.1568 - val_accuracy: 0.1400 - val_loss: 2.0363 - learning_rate: 0.0010\n",
      "Epoch 2/50\n",
      "\u001b[1m13/13\u001b[0m \u001b[32m━━━━━━━━━━━━━━━━━━━━\u001b[0m\u001b[37m\u001b[0m \u001b[1m2s\u001b[0m 120ms/step - accuracy: 0.2399 - loss: 1.9650 - val_accuracy: 0.3900 - val_loss: 1.7359 - learning_rate: 0.0010\n",
      "Epoch 3/50\n",
      "\u001b[1m13/13\u001b[0m \u001b[32m━━━━━━━━━━━━━━━━━━━━\u001b[0m\u001b[37m\u001b[0m \u001b[1m2s\u001b[0m 120ms/step - accuracy: 0.3935 - loss: 1.6553 - val_accuracy: 0.4900 - val_loss: 1.2812 - learning_rate: 0.0010\n",
      "Epoch 4/50\n",
      "\u001b[1m13/13\u001b[0m \u001b[32m━━━━━━━━━━━━━━━━━━━━\u001b[0m\u001b[37m\u001b[0m \u001b[1m2s\u001b[0m 161ms/step - accuracy: 0.5459 - loss: 1.2156 - val_accuracy: 0.8200 - val_loss: 0.8725 - learning_rate: 0.0010\n",
      "Epoch 5/50\n",
      "\u001b[1m13/13\u001b[0m \u001b[32m━━━━━━━━━━━━━━━━━━━━\u001b[0m\u001b[37m\u001b[0m \u001b[1m2s\u001b[0m 150ms/step - accuracy: 0.7329 - loss: 0.8660 - val_accuracy: 0.8300 - val_loss: 0.5721 - learning_rate: 0.0010\n",
      "Epoch 6/50\n",
      "\u001b[1m13/13\u001b[0m \u001b[32m━━━━━━━━━━━━━━━━━━━━\u001b[0m\u001b[37m\u001b[0m \u001b[1m2s\u001b[0m 153ms/step - accuracy: 0.7878 - loss: 0.6099 - val_accuracy: 0.9300 - val_loss: 0.3813 - learning_rate: 0.0010\n",
      "Epoch 7/50\n",
      "\u001b[1m13/13\u001b[0m \u001b[32m━━━━━━━━━━━━━━━━━━━━\u001b[0m\u001b[37m\u001b[0m \u001b[1m2s\u001b[0m 149ms/step - accuracy: 0.8889 - loss: 0.4329 - val_accuracy: 0.9400 - val_loss: 0.2410 - learning_rate: 0.0010\n",
      "Epoch 8/50\n",
      "\u001b[1m13/13\u001b[0m \u001b[32m━━━━━━━━━━━━━━━━━━━━\u001b[0m\u001b[37m\u001b[0m \u001b[1m2s\u001b[0m 166ms/step - accuracy: 0.9606 - loss: 0.2394 - val_accuracy: 0.9700 - val_loss: 0.1438 - learning_rate: 0.0010\n",
      "Epoch 9/50\n",
      "\u001b[1m13/13\u001b[0m \u001b[32m━━━━━━━━━━━━━━━━━━━━\u001b[0m\u001b[37m\u001b[0m \u001b[1m2s\u001b[0m 179ms/step - accuracy: 0.9867 - loss: 0.1158 - val_accuracy: 0.9700 - val_loss: 0.0994 - learning_rate: 0.0010\n",
      "Epoch 10/50\n",
      "\u001b[1m13/13\u001b[0m \u001b[32m━━━━━━━━━━━━━━━━━━━━\u001b[0m\u001b[37m\u001b[0m \u001b[1m2s\u001b[0m 177ms/step - accuracy: 0.9899 - loss: 0.0662 - val_accuracy: 0.9800 - val_loss: 0.0841 - learning_rate: 0.0010\n",
      "Epoch 11/50\n",
      "\u001b[1m13/13\u001b[0m \u001b[32m━━━━━━━━━━━━━━━━━━━━\u001b[0m\u001b[37m\u001b[0m \u001b[1m2s\u001b[0m 160ms/step - accuracy: 0.9944 - loss: 0.0600 - val_accuracy: 0.9700 - val_loss: 0.0859 - learning_rate: 0.0010\n",
      "Epoch 12/50\n",
      "\u001b[1m13/13\u001b[0m \u001b[32m━━━━━━━━━━━━━━━━━━━━\u001b[0m\u001b[37m\u001b[0m \u001b[1m2s\u001b[0m 172ms/step - accuracy: 0.9949 - loss: 0.0378 - val_accuracy: 0.9700 - val_loss: 0.0691 - learning_rate: 0.0010\n",
      "Epoch 13/50\n",
      "\u001b[1m13/13\u001b[0m \u001b[32m━━━━━━━━━━━━━━━━━━━━\u001b[0m\u001b[37m\u001b[0m \u001b[1m2s\u001b[0m 169ms/step - accuracy: 1.0000 - loss: 0.0283 - val_accuracy: 0.9800 - val_loss: 0.0588 - learning_rate: 0.0010\n",
      "Epoch 14/50\n",
      "\u001b[1m13/13\u001b[0m \u001b[32m━━━━━━━━━━━━━━━━━━━━\u001b[0m\u001b[37m\u001b[0m \u001b[1m2s\u001b[0m 162ms/step - accuracy: 1.0000 - loss: 0.0240 - val_accuracy: 0.9900 - val_loss: 0.0494 - learning_rate: 0.0010\n",
      "Epoch 15/50\n",
      "\u001b[1m13/13\u001b[0m \u001b[32m━━━━━━━━━━━━━━━━━━━━\u001b[0m\u001b[37m\u001b[0m \u001b[1m2s\u001b[0m 165ms/step - accuracy: 1.0000 - loss: 0.0143 - val_accuracy: 0.9900 - val_loss: 0.0498 - learning_rate: 0.0010\n",
      "Epoch 16/50\n",
      "\u001b[1m13/13\u001b[0m \u001b[32m━━━━━━━━━━━━━━━━━━━━\u001b[0m\u001b[37m\u001b[0m \u001b[1m2s\u001b[0m 156ms/step - accuracy: 1.0000 - loss: 0.0107 - val_accuracy: 0.9900 - val_loss: 0.0462 - learning_rate: 0.0010\n",
      "Epoch 17/50\n",
      "\u001b[1m13/13\u001b[0m \u001b[32m━━━━━━━━━━━━━━━━━━━━\u001b[0m\u001b[37m\u001b[0m \u001b[1m2s\u001b[0m 177ms/step - accuracy: 1.0000 - loss: 0.0096 - val_accuracy: 0.9900 - val_loss: 0.0431 - learning_rate: 0.0010\n",
      "Epoch 18/50\n",
      "\u001b[1m13/13\u001b[0m \u001b[32m━━━━━━━━━━━━━━━━━━━━\u001b[0m\u001b[37m\u001b[0m \u001b[1m2s\u001b[0m 160ms/step - accuracy: 1.0000 - loss: 0.0081 - val_accuracy: 0.9900 - val_loss: 0.0441 - learning_rate: 0.0010\n",
      "Epoch 19/50\n",
      "\u001b[1m13/13\u001b[0m \u001b[32m━━━━━━━━━━━━━━━━━━━━\u001b[0m\u001b[37m\u001b[0m \u001b[1m2s\u001b[0m 164ms/step - accuracy: 1.0000 - loss: 0.0068 - val_accuracy: 0.9900 - val_loss: 0.0446 - learning_rate: 0.0010\n",
      "Epoch 20/50\n",
      "\u001b[1m13/13\u001b[0m \u001b[32m━━━━━━━━━━━━━━━━━━━━\u001b[0m\u001b[37m\u001b[0m \u001b[1m2s\u001b[0m 162ms/step - accuracy: 1.0000 - loss: 0.0073 - val_accuracy: 0.9900 - val_loss: 0.0452 - learning_rate: 0.0010\n",
      "Epoch 21/50\n",
      "\u001b[1m13/13\u001b[0m \u001b[32m━━━━━━━━━━━━━━━━━━━━\u001b[0m\u001b[37m\u001b[0m \u001b[1m2s\u001b[0m 184ms/step - accuracy: 1.0000 - loss: 0.0054 - val_accuracy: 0.9900 - val_loss: 0.0452 - learning_rate: 0.0010\n",
      "Epoch 22/50\n",
      "\u001b[1m13/13\u001b[0m \u001b[32m━━━━━━━━━━━━━━━━━━━━\u001b[0m\u001b[37m\u001b[0m \u001b[1m2s\u001b[0m 158ms/step - accuracy: 1.0000 - loss: 0.0052 - val_accuracy: 0.9900 - val_loss: 0.0452 - learning_rate: 0.0010\n",
      "Epoch 23/50\n",
      "\u001b[1m13/13\u001b[0m \u001b[32m━━━━━━━━━━━━━━━━━━━━\u001b[0m\u001b[37m\u001b[0m \u001b[1m2s\u001b[0m 155ms/step - accuracy: 1.0000 - loss: 0.0038 - val_accuracy: 0.9900 - val_loss: 0.0447 - learning_rate: 2.0000e-04\n",
      "Epoch 24/50\n",
      "\u001b[1m13/13\u001b[0m \u001b[32m━━━━━━━━━━━━━━━━━━━━\u001b[0m\u001b[37m\u001b[0m \u001b[1m2s\u001b[0m 164ms/step - accuracy: 1.0000 - loss: 0.0046 - val_accuracy: 0.9900 - val_loss: 0.0441 - learning_rate: 2.0000e-04\n",
      "Epoch 25/50\n",
      "\u001b[1m13/13\u001b[0m \u001b[32m━━━━━━━━━━━━━━━━━━━━\u001b[0m\u001b[37m\u001b[0m \u001b[1m2s\u001b[0m 148ms/step - accuracy: 1.0000 - loss: 0.0041 - val_accuracy: 0.9900 - val_loss: 0.0437 - learning_rate: 2.0000e-04\n",
      "Epoch 26/50\n",
      "\u001b[1m13/13\u001b[0m \u001b[32m━━━━━━━━━━━━━━━━━━━━\u001b[0m\u001b[37m\u001b[0m \u001b[1m2s\u001b[0m 170ms/step - accuracy: 1.0000 - loss: 0.0042 - val_accuracy: 0.9900 - val_loss: 0.0439 - learning_rate: 2.0000e-04\n",
      "Epoch 27/50\n",
      "\u001b[1m13/13\u001b[0m \u001b[32m━━━━━━━━━━━━━━━━━━━━\u001b[0m\u001b[37m\u001b[0m \u001b[1m2s\u001b[0m 160ms/step - accuracy: 1.0000 - loss: 0.0037 - val_accuracy: 0.9900 - val_loss: 0.0442 - learning_rate: 2.0000e-04\n"
     ]
    }
   ],
   "source": [
    "from tensorflow.keras.models import Sequential\n",
    "from tensorflow.keras.layers import Embedding, GRU, Dense, Dropout, Bidirectional\n",
    "from tensorflow.keras.callbacks import ReduceLROnPlateau, EarlyStopping\n",
    "import numpy as np\n",
    "\n",
    "seed_value = 42\n",
    "np.random.seed(seed_value)\n",
    "tf.random.set_seed(seed_value)\n",
    "\n",
    "print(\"Train padded shape:\", train_padded.shape) \n",
    "print(\"Training labels shape:\", training_label_seq.shape)  \n",
    "print(\"Unique labels in training data:\", np.unique(training_label_seq))  \n",
    "\n",
    "model = Sequential([\n",
    "    Embedding(input_dim=20000, output_dim=100, input_length=200),\n",
    "    Bidirectional(GRU(128)),  \n",
    "    Dropout(0.3),\n",
    "    Dense(9, activation='softmax')  \n",
    "   ])\n",
    "\n",
    "model.compile(loss='sparse_categorical_crossentropy', optimizer='adam', metrics=['accuracy'])\n",
    "\n",
    "\n",
    "reduce_lr = ReduceLROnPlateau(monitor='val_loss', factor=0.2, patience=5, min_lr=1e-6)\n",
    "early_stop = EarlyStopping(monitor='val_loss', patience=10, restore_best_weights=True)\n",
    "\n",
    "\n",
    "history = model.fit(train_padded, training_label_seq, epochs=50,\n",
    "                       validation_data=(validation_padded, validation_label_seq),\n",
    "                       callbacks=[reduce_lr, early_stop])\n",
    "   "
   ]
  },
  {
   "cell_type": "code",
   "execution_count": 23,
   "id": "0a26fae3",
   "metadata": {},
   "outputs": [
    {
     "data": {
      "text/html": [
       "<div>\n",
       "<style scoped>\n",
       "    .dataframe tbody tr th:only-of-type {\n",
       "        vertical-align: middle;\n",
       "    }\n",
       "\n",
       "    .dataframe tbody tr th {\n",
       "        vertical-align: top;\n",
       "    }\n",
       "\n",
       "    .dataframe thead th {\n",
       "        text-align: right;\n",
       "    }\n",
       "</style>\n",
       "<table border=\"1\" class=\"dataframe\">\n",
       "  <thead>\n",
       "    <tr style=\"text-align: right;\">\n",
       "      <th></th>\n",
       "      <th>accuracy</th>\n",
       "      <th>loss</th>\n",
       "      <th>val_accuracy</th>\n",
       "      <th>val_loss</th>\n",
       "      <th>learning_rate</th>\n",
       "    </tr>\n",
       "  </thead>\n",
       "  <tbody>\n",
       "    <tr>\n",
       "      <th>0</th>\n",
       "      <td>0.2250</td>\n",
       "      <td>2.122682</td>\n",
       "      <td>0.14</td>\n",
       "      <td>2.036341</td>\n",
       "      <td>0.0010</td>\n",
       "    </tr>\n",
       "    <tr>\n",
       "      <th>1</th>\n",
       "      <td>0.2825</td>\n",
       "      <td>1.926819</td>\n",
       "      <td>0.39</td>\n",
       "      <td>1.735948</td>\n",
       "      <td>0.0010</td>\n",
       "    </tr>\n",
       "    <tr>\n",
       "      <th>2</th>\n",
       "      <td>0.4175</td>\n",
       "      <td>1.564878</td>\n",
       "      <td>0.49</td>\n",
       "      <td>1.281220</td>\n",
       "      <td>0.0010</td>\n",
       "    </tr>\n",
       "    <tr>\n",
       "      <th>3</th>\n",
       "      <td>0.5950</td>\n",
       "      <td>1.140411</td>\n",
       "      <td>0.82</td>\n",
       "      <td>0.872472</td>\n",
       "      <td>0.0010</td>\n",
       "    </tr>\n",
       "    <tr>\n",
       "      <th>4</th>\n",
       "      <td>0.7400</td>\n",
       "      <td>0.806236</td>\n",
       "      <td>0.83</td>\n",
       "      <td>0.572136</td>\n",
       "      <td>0.0010</td>\n",
       "    </tr>\n",
       "    <tr>\n",
       "      <th>5</th>\n",
       "      <td>0.8125</td>\n",
       "      <td>0.565847</td>\n",
       "      <td>0.93</td>\n",
       "      <td>0.381302</td>\n",
       "      <td>0.0010</td>\n",
       "    </tr>\n",
       "    <tr>\n",
       "      <th>6</th>\n",
       "      <td>0.9025</td>\n",
       "      <td>0.377929</td>\n",
       "      <td>0.94</td>\n",
       "      <td>0.241045</td>\n",
       "      <td>0.0010</td>\n",
       "    </tr>\n",
       "    <tr>\n",
       "      <th>7</th>\n",
       "      <td>0.9750</td>\n",
       "      <td>0.194814</td>\n",
       "      <td>0.97</td>\n",
       "      <td>0.143824</td>\n",
       "      <td>0.0010</td>\n",
       "    </tr>\n",
       "    <tr>\n",
       "      <th>8</th>\n",
       "      <td>0.9925</td>\n",
       "      <td>0.101787</td>\n",
       "      <td>0.97</td>\n",
       "      <td>0.099415</td>\n",
       "      <td>0.0010</td>\n",
       "    </tr>\n",
       "    <tr>\n",
       "      <th>9</th>\n",
       "      <td>0.9950</td>\n",
       "      <td>0.058542</td>\n",
       "      <td>0.98</td>\n",
       "      <td>0.084056</td>\n",
       "      <td>0.0010</td>\n",
       "    </tr>\n",
       "    <tr>\n",
       "      <th>10</th>\n",
       "      <td>0.9950</td>\n",
       "      <td>0.051984</td>\n",
       "      <td>0.97</td>\n",
       "      <td>0.085883</td>\n",
       "      <td>0.0010</td>\n",
       "    </tr>\n",
       "    <tr>\n",
       "      <th>11</th>\n",
       "      <td>0.9975</td>\n",
       "      <td>0.035162</td>\n",
       "      <td>0.97</td>\n",
       "      <td>0.069057</td>\n",
       "      <td>0.0010</td>\n",
       "    </tr>\n",
       "    <tr>\n",
       "      <th>12</th>\n",
       "      <td>1.0000</td>\n",
       "      <td>0.028100</td>\n",
       "      <td>0.98</td>\n",
       "      <td>0.058816</td>\n",
       "      <td>0.0010</td>\n",
       "    </tr>\n",
       "    <tr>\n",
       "      <th>13</th>\n",
       "      <td>1.0000</td>\n",
       "      <td>0.020538</td>\n",
       "      <td>0.99</td>\n",
       "      <td>0.049436</td>\n",
       "      <td>0.0010</td>\n",
       "    </tr>\n",
       "    <tr>\n",
       "      <th>14</th>\n",
       "      <td>1.0000</td>\n",
       "      <td>0.013555</td>\n",
       "      <td>0.99</td>\n",
       "      <td>0.049792</td>\n",
       "      <td>0.0010</td>\n",
       "    </tr>\n",
       "    <tr>\n",
       "      <th>15</th>\n",
       "      <td>1.0000</td>\n",
       "      <td>0.010768</td>\n",
       "      <td>0.99</td>\n",
       "      <td>0.046237</td>\n",
       "      <td>0.0010</td>\n",
       "    </tr>\n",
       "    <tr>\n",
       "      <th>16</th>\n",
       "      <td>1.0000</td>\n",
       "      <td>0.009108</td>\n",
       "      <td>0.99</td>\n",
       "      <td>0.043145</td>\n",
       "      <td>0.0010</td>\n",
       "    </tr>\n",
       "    <tr>\n",
       "      <th>17</th>\n",
       "      <td>1.0000</td>\n",
       "      <td>0.008172</td>\n",
       "      <td>0.99</td>\n",
       "      <td>0.044106</td>\n",
       "      <td>0.0010</td>\n",
       "    </tr>\n",
       "    <tr>\n",
       "      <th>18</th>\n",
       "      <td>1.0000</td>\n",
       "      <td>0.006880</td>\n",
       "      <td>0.99</td>\n",
       "      <td>0.044563</td>\n",
       "      <td>0.0010</td>\n",
       "    </tr>\n",
       "    <tr>\n",
       "      <th>19</th>\n",
       "      <td>1.0000</td>\n",
       "      <td>0.006617</td>\n",
       "      <td>0.99</td>\n",
       "      <td>0.045194</td>\n",
       "      <td>0.0010</td>\n",
       "    </tr>\n",
       "    <tr>\n",
       "      <th>20</th>\n",
       "      <td>1.0000</td>\n",
       "      <td>0.005432</td>\n",
       "      <td>0.99</td>\n",
       "      <td>0.045156</td>\n",
       "      <td>0.0010</td>\n",
       "    </tr>\n",
       "    <tr>\n",
       "      <th>21</th>\n",
       "      <td>1.0000</td>\n",
       "      <td>0.004910</td>\n",
       "      <td>0.99</td>\n",
       "      <td>0.045151</td>\n",
       "      <td>0.0010</td>\n",
       "    </tr>\n",
       "    <tr>\n",
       "      <th>22</th>\n",
       "      <td>1.0000</td>\n",
       "      <td>0.003957</td>\n",
       "      <td>0.99</td>\n",
       "      <td>0.044729</td>\n",
       "      <td>0.0002</td>\n",
       "    </tr>\n",
       "    <tr>\n",
       "      <th>23</th>\n",
       "      <td>1.0000</td>\n",
       "      <td>0.004587</td>\n",
       "      <td>0.99</td>\n",
       "      <td>0.044073</td>\n",
       "      <td>0.0002</td>\n",
       "    </tr>\n",
       "    <tr>\n",
       "      <th>24</th>\n",
       "      <td>1.0000</td>\n",
       "      <td>0.004216</td>\n",
       "      <td>0.99</td>\n",
       "      <td>0.043701</td>\n",
       "      <td>0.0002</td>\n",
       "    </tr>\n",
       "    <tr>\n",
       "      <th>25</th>\n",
       "      <td>1.0000</td>\n",
       "      <td>0.004169</td>\n",
       "      <td>0.99</td>\n",
       "      <td>0.043875</td>\n",
       "      <td>0.0002</td>\n",
       "    </tr>\n",
       "    <tr>\n",
       "      <th>26</th>\n",
       "      <td>1.0000</td>\n",
       "      <td>0.004023</td>\n",
       "      <td>0.99</td>\n",
       "      <td>0.044198</td>\n",
       "      <td>0.0002</td>\n",
       "    </tr>\n",
       "  </tbody>\n",
       "</table>\n",
       "</div>"
      ],
      "text/plain": [
       "    accuracy      loss  val_accuracy  val_loss  learning_rate\n",
       "0     0.2250  2.122682          0.14  2.036341         0.0010\n",
       "1     0.2825  1.926819          0.39  1.735948         0.0010\n",
       "2     0.4175  1.564878          0.49  1.281220         0.0010\n",
       "3     0.5950  1.140411          0.82  0.872472         0.0010\n",
       "4     0.7400  0.806236          0.83  0.572136         0.0010\n",
       "5     0.8125  0.565847          0.93  0.381302         0.0010\n",
       "6     0.9025  0.377929          0.94  0.241045         0.0010\n",
       "7     0.9750  0.194814          0.97  0.143824         0.0010\n",
       "8     0.9925  0.101787          0.97  0.099415         0.0010\n",
       "9     0.9950  0.058542          0.98  0.084056         0.0010\n",
       "10    0.9950  0.051984          0.97  0.085883         0.0010\n",
       "11    0.9975  0.035162          0.97  0.069057         0.0010\n",
       "12    1.0000  0.028100          0.98  0.058816         0.0010\n",
       "13    1.0000  0.020538          0.99  0.049436         0.0010\n",
       "14    1.0000  0.013555          0.99  0.049792         0.0010\n",
       "15    1.0000  0.010768          0.99  0.046237         0.0010\n",
       "16    1.0000  0.009108          0.99  0.043145         0.0010\n",
       "17    1.0000  0.008172          0.99  0.044106         0.0010\n",
       "18    1.0000  0.006880          0.99  0.044563         0.0010\n",
       "19    1.0000  0.006617          0.99  0.045194         0.0010\n",
       "20    1.0000  0.005432          0.99  0.045156         0.0010\n",
       "21    1.0000  0.004910          0.99  0.045151         0.0010\n",
       "22    1.0000  0.003957          0.99  0.044729         0.0002\n",
       "23    1.0000  0.004587          0.99  0.044073         0.0002\n",
       "24    1.0000  0.004216          0.99  0.043701         0.0002\n",
       "25    1.0000  0.004169          0.99  0.043875         0.0002\n",
       "26    1.0000  0.004023          0.99  0.044198         0.0002"
      ]
     },
     "execution_count": 23,
     "metadata": {},
     "output_type": "execute_result"
    }
   ],
   "source": [
    "pd.DataFrame(history.history)\n"
   ]
  },
  {
   "cell_type": "code",
   "execution_count": 24,
   "id": "35d41dd2",
   "metadata": {},
   "outputs": [
    {
     "data": {
      "image/png": "[encoded data removed]",
      "text/plain": [
       "<Figure size 640x480 with 1 Axes>"
      ]
     },
     "metadata": {},
     "output_type": "display_data"
    }
   ],
   "source": [
    "plt.plot(history.history['accuracy'])\n",
    "plt.plot(history.history['val_accuracy'])\n",
    "plt.title('model accuracy')\n",
    "plt.ylabel('accuracy')\n",
    "plt.xlabel('epoch')\n",
    "plt.legend(['train', 'test'], loc='upper left')\n",
    "plt.show()"
   ]
  },
  {
   "cell_type": "code",
   "execution_count": 25,
   "id": "b1091f2c",
   "metadata": {},
   "outputs": [
    {
     "data": {
      "image/png": "[encoded data removed]",
      "text/plain": [
       "<Figure size 640x480 with 1 Axes>"
      ]
     },
     "metadata": {},
     "output_type": "display_data"
    }
   ],
   "source": [
    "plt.plot(history.history['loss'])\n",
    "plt.plot(history.history['val_loss'])\n",
    "plt.title('model loss')\n",
    "plt.ylabel('loss')\n",
    "plt.xlabel('epoch')\n",
    "plt.legend(['train', 'test'], loc='upper left')\n",
    "plt.show()"
   ]
  },
  {
   "cell_type": "code",
   "execution_count": 26,
   "id": "921dac30",
   "metadata": {},
   "outputs": [
    {
     "name": "stdout",
     "output_type": "stream",
     "text": [
      "\u001b[1m4/4\u001b[0m \u001b[32m━━━━━━━━━━━━━━━━━━━━\u001b[0m\u001b[37m\u001b[0m \u001b[1m1s\u001b[0m 133ms/step\n"
     ]
    }
   ],
   "source": [
    "y_pred=model.predict(validation_padded)\n"
   ]
  },
  {
   "cell_type": "code",
   "execution_count": 27,
   "id": "a982aae1",
   "metadata": {},
   "outputs": [
    {
     "name": "stderr",
     "output_type": "stream",
     "text": [
      "100%|█████████████████████████████████████████████████████████████████████████████| 100/100 [00:00<00:00, 99532.61it/s]\n"
     ]
    },
    {
     "data": {
      "text/html": [
       "<div>\n",
       "<style scoped>\n",
       "    .dataframe tbody tr th:only-of-type {\n",
       "        vertical-align: middle;\n",
       "    }\n",
       "\n",
       "    .dataframe tbody tr th {\n",
       "        vertical-align: top;\n",
       "    }\n",
       "\n",
       "    .dataframe thead th {\n",
       "        text-align: right;\n",
       "    }\n",
       "</style>\n",
       "<table border=\"1\" class=\"dataframe\">\n",
       "  <thead>\n",
       "    <tr style=\"text-align: right;\">\n",
       "      <th></th>\n",
       "      <th>Prediction</th>\n",
       "      <th>actual</th>\n",
       "    </tr>\n",
       "  </thead>\n",
       "  <tbody>\n",
       "    <tr>\n",
       "      <th>0</th>\n",
       "      <td>3</td>\n",
       "      <td>3</td>\n",
       "    </tr>\n",
       "    <tr>\n",
       "      <th>1</th>\n",
       "      <td>4</td>\n",
       "      <td>4</td>\n",
       "    </tr>\n",
       "    <tr>\n",
       "      <th>2</th>\n",
       "      <td>3</td>\n",
       "      <td>3</td>\n",
       "    </tr>\n",
       "    <tr>\n",
       "      <th>3</th>\n",
       "      <td>2</td>\n",
       "      <td>2</td>\n",
       "    </tr>\n",
       "    <tr>\n",
       "      <th>4</th>\n",
       "      <td>1</td>\n",
       "      <td>1</td>\n",
       "    </tr>\n",
       "    <tr>\n",
       "      <th>...</th>\n",
       "      <td>...</td>\n",
       "      <td>...</td>\n",
       "    </tr>\n",
       "    <tr>\n",
       "      <th>95</th>\n",
       "      <td>4</td>\n",
       "      <td>4</td>\n",
       "    </tr>\n",
       "    <tr>\n",
       "      <th>96</th>\n",
       "      <td>7</td>\n",
       "      <td>7</td>\n",
       "    </tr>\n",
       "    <tr>\n",
       "      <th>97</th>\n",
       "      <td>3</td>\n",
       "      <td>3</td>\n",
       "    </tr>\n",
       "    <tr>\n",
       "      <th>98</th>\n",
       "      <td>8</td>\n",
       "      <td>8</td>\n",
       "    </tr>\n",
       "    <tr>\n",
       "      <th>99</th>\n",
       "      <td>3</td>\n",
       "      <td>3</td>\n",
       "    </tr>\n",
       "  </tbody>\n",
       "</table>\n",
       "<p>100 rows × 2 columns</p>\n",
       "</div>"
      ],
      "text/plain": [
       "    Prediction  actual\n",
       "0            3       3\n",
       "1            4       4\n",
       "2            3       3\n",
       "3            2       2\n",
       "4            1       1\n",
       "..         ...     ...\n",
       "95           4       4\n",
       "96           7       7\n",
       "97           3       3\n",
       "98           8       8\n",
       "99           3       3\n",
       "\n",
       "[100 rows x 2 columns]"
      ]
     },
     "execution_count": 27,
     "metadata": {},
     "output_type": "execute_result"
    }
   ],
   "source": [
    "pred=[np.argmax(i) for i in tqdm(y_pred)]\n",
    "df=pd.DataFrame()\n",
    "df['Prediction'],df['actual']=pred,validation_label_seq\n",
    "df"
   ]
  },
  {
   "cell_type": "code",
   "execution_count": 28,
   "id": "285479d5",
   "metadata": {},
   "outputs": [
    {
     "data": {
      "image/png": "[encoded data removed]",
      "text/plain": [
       "<Figure size 800x800 with 2 Axes>"
      ]
     },
     "metadata": {},
     "output_type": "display_data"
    },
    {
     "data": {
      "text/plain": [
       "array([[ 4,  0,  0,  0,  0,  0,  0,  0,  0],\n",
       "       [ 0,  7,  0,  0,  0,  0,  0,  0,  0],\n",
       "       [ 0,  0, 13,  0,  0,  0,  0,  0,  1],\n",
       "       [ 0,  0,  0, 23,  0,  0,  0,  0,  0],\n",
       "       [ 0,  0,  0,  0, 15,  0,  0,  0,  0],\n",
       "       [ 0,  0,  0,  0,  0,  2,  0,  0,  0],\n",
       "       [ 0,  0,  0,  0,  0,  0,  8,  0,  0],\n",
       "       [ 0,  0,  0,  0,  0,  0,  0, 11,  0],\n",
       "       [ 0,  0,  0,  0,  0,  0,  0,  0, 16]], dtype=int64)"
      ]
     },
     "execution_count": 28,
     "metadata": {},
     "output_type": "execute_result"
    }
   ],
   "source": [
    "CM = confusion_matrix(validation_label_seq,pred)\n",
    "plt.figure(figsize=(8,8))\n",
    "ax= plt.subplot()\n",
    "sns.heatmap(CM, center = True, fmt='g',ax=ax,annot=True,cmap='Blues_r')\n",
    "ax.set_xlabel('Predicted labels',fontsize=20)\n",
    "ax.set_ylabel('True labels',fontsize=20) \n",
    "ax.set_title('Confusion Matrix',fontsize=20)\n",
    "ax.xaxis.set_ticklabels(dict_.keys()) \n",
    "ax.yaxis.set_ticklabels(dict_.keys())\n",
    "plt.show()\n",
    "CM"
   ]
  },
  {
   "cell_type": "code",
   "execution_count": 29,
   "id": "588990f7",
   "metadata": {},
   "outputs": [
    {
     "name": "stdout",
     "output_type": "stream",
     "text": [
      "\u001b[1m4/4\u001b[0m \u001b[32m━━━━━━━━━━━━━━━━━━━━\u001b[0m\u001b[37m\u001b[0m \u001b[1m0s\u001b[0m 27ms/step\n",
      "Predicted probabilities shape: (100, 9)\n",
      "Classification Report:n               precision    recall  f1-score   support\n",
      "\n",
      "           0       1.00      1.00      1.00         4\n",
      "           1       1.00      1.00      1.00         7\n",
      "           2       1.00      0.93      0.96        14\n",
      "           3       1.00      1.00      1.00        23\n",
      "           4       1.00      1.00      1.00        15\n",
      "           5       1.00      1.00      1.00         2\n",
      "           6       1.00      1.00      1.00         8\n",
      "           7       1.00      1.00      1.00        11\n",
      "           8       0.94      1.00      0.97        16\n",
      "\n",
      "    accuracy                           0.99       100\n",
      "   macro avg       0.99      0.99      0.99       100\n",
      "weighted avg       0.99      0.99      0.99       100\n",
      "\n",
      "ROC AUC Score: 0.9994751291989665\n",
      "Gini Coefficient: 0.998950258397933\n",
      "Kolmogorov-Smirnov Statistic: 1.0\n",
      "Kolmogorov-Smirnov p-value: 0.0060606060606060615\n"
     ]
    }
   ],
   "source": [
    "from sklearn.metrics import classification_report, roc_auc_score\n",
    "from scipy import stats\n",
    "import numpy as np\n",
    "\n",
    "\n",
    "pred_prob = model.predict(validation_padded)\n",
    "\n",
    "\n",
    "print(\"Predicted probabilities shape:\", pred_prob.shape)\n",
    "\n",
    "\n",
    "if len(pred_prob.shape) == 1:\n",
    "    pred_prob = np.expand_dims(pred_prob, axis=1)  \n",
    "\n",
    "\n",
    "if pred_prob.shape[1] == 1:\n",
    "    pred_prob = np.hstack([1 - pred_prob, pred_prob]) \n",
    "\n",
    "\n",
    "pred_labels = np.argmax(pred_prob, axis=1) \n",
    "\n",
    "\n",
    "classification_report_result = classification_report(validation_label_seq, pred_labels)\n",
    "print('Classification Report:n', classification_report_result)\n",
    "\n",
    "\n",
    "roc_auc = roc_auc_score(validation_label_seq, pred_prob, multi_class='ovr')  \n",
    "print('ROC AUC Score:', roc_auc)\n",
    "\n",
    "\n",
    "gini_coefficient = 2 * roc_auc - 1\n",
    "print('Gini Coefficient:', gini_coefficient)\n",
    "\n",
    "\n",
    "ks_statistic, ks_p_value = stats.ks_2samp(pred_prob[validation_label_seq == 0][:, 1], \n",
    "                                           pred_prob[validation_label_seq == 1][:, 1])\n",
    "print('Kolmogorov-Smirnov Statistic:', ks_statistic)\n",
    "print('Kolmogorov-Smirnov p-value:', ks_p_value)\n"
   ]
  },
  {
   "cell_type": "code",
   "execution_count": 30,
   "id": "1503f64c",
   "metadata": {},
   "outputs": [],
   "source": [
    "def get_code(N):\n",
    "    for x,y in dict_.items():\n",
    "        if y==N:\n",
    "            return x"
   ]
  },
  {
   "cell_type": "code",
   "execution_count": 31,
   "id": "d997a37c",
   "metadata": {},
   "outputs": [
    {
     "name": "stdout",
     "output_type": "stream",
     "text": [
      "\u001b[1m1/1\u001b[0m \u001b[32m━━━━━━━━━━━━━━━━━━━━\u001b[0m\u001b[37m\u001b[0m \u001b[1m0s\u001b[0m 36ms/step\n",
      "[[2.8765784e-03 2.2668471e-06 1.6590753e-05 1.8662568e-02 8.9846981e-01\n",
      "  7.9089582e-02 2.5617555e-04 5.6208530e-04 6.4312459e-05]]\n",
      "4\n",
      "TAX\n"
     ]
    }
   ],
   "source": [
    "txt = ['Оплата штрафа']\n",
    "\n",
    "\n",
    "seq = tokenizer.texts_to_sequences(txt)\n",
    "padded = pad_sequences(seq, maxlen=max_length)\n",
    "pred = model.predict(padded)\n",
    "print(pred)\n",
    "print(np.argmax(pred))\n",
    "print(get_code(np.argmax(pred)))"
   ]
  },
  {
   "cell_type": "code",
   "execution_count": null,
   "id": "d48f0fbe",
   "metadata": {},
   "outputs": [],
   "source": []
  }
 ],
 "metadata": {
  "kernelspec": {
   "display_name": "Python 3 (ipykernel)",
   "language": "python",
   "name": "python3"
  },
  "language_info": {
   "codemirror_mode": {
    "name": "ipython",
    "version": 3
   },
   "file_extension": ".py",
   "mimetype": "text/x-python",
   "name": "python",
   "nbconvert_exporter": "python",
   "pygments_lexer": "ipython3",
   "version": "3.10.9"
  }
 },
 "nbformat": 4,
 "nbformat_minor": 5
}
