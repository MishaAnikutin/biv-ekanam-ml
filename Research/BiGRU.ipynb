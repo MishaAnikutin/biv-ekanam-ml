{
 "cells": [
  {
   "cell_type": "code",
   "execution_count": 1,
   "id": "be4d717f",
   "metadata": {},
   "outputs": [
    {
     "name": "stderr",
     "output_type": "stream",
     "text": [
      "[nltk_data] Downloading package stopwords to\n",
      "[nltk_data]     C:\\Users\\a.n.piskunov\\AppData\\Roaming\\nltk_data...\n",
      "[nltk_data]   Package stopwords is already up-to-date!\n"
     ]
    }
   ],
   "source": [
    "import csv\n",
    "import tensorflow as tf\n",
    "import pandas as pd\n",
    "import numpy as np\n",
    "import matplotlib.pyplot as plt\n",
    "import seaborn as sns\n",
    "import re\n",
    "from tensorflow.keras.preprocessing.text import Tokenizer\n",
    "from tensorflow.keras.preprocessing.sequence import pad_sequences\n",
    "from tensorflow.keras.models import Sequential\n",
    "from tensorflow.keras.layers import Dense, Flatten, LSTM, Dropout, Activation, Embedding,SimpleRNN,GRU\n",
    "import nltk\n",
    "nltk.download('stopwords')\n",
    "from nltk.corpus import stopwords\n",
    "from nltk import word_tokenize\n",
    "STOPWORDS = set(stopwords.words('russian'))\n",
    "from string import punctuation\n",
    "punct = list(punctuation)\n",
    "from tqdm import tqdm\n",
    "from keras.callbacks import ReduceLROnPlateau,EarlyStopping\n",
    "from sklearn.metrics import classification_report\n",
    "from sklearn.metrics import confusion_matrix\n",
    "from sklearn.metrics import classification_report, roc_auc_score\n",
    "from scipy import stats\n",
    "from tensorflow.keras.models import Sequential\n",
    "from tensorflow.keras.layers import Embedding, GRU, Dense, Dropout, Bidirectional\n",
    "from tensorflow.keras.callbacks import ReduceLROnPlateau, EarlyStopping\n",
    "from sklearn.utils import resample\n",
    "\n",
    "\n",
    "np.random.seed(42)\n",
    "tf.random.set_seed(42)\n"
   ]
  },
  {
   "cell_type": "code",
   "execution_count": 2,
   "id": "51bd6faf",
   "metadata": {},
   "outputs": [],
   "source": [
    "data_test = pd.read_csv(r'C:\\Users\\a.n.piskunov\\Downloads\\test.csv')\n",
    "data_train = pd.read_csv(r'C:\\Users\\a.n.piskunov\\Downloads\\train.csv')\n"
   ]
  },
  {
   "cell_type": "code",
   "execution_count": 3,
   "id": "426e2349",
   "metadata": {},
   "outputs": [],
   "source": [
    "articles_test=data_test['text'].to_list()\n",
    "articles_train=data_train['text'].to_list()\n",
    "labels_train=data_train['class'].to_list()\n",
    "labels_test=data_test['class'].to_list()"
   ]
  },
  {
   "cell_type": "code",
   "execution_count": 4,
   "id": "57a941d1",
   "metadata": {},
   "outputs": [],
   "source": [
    "only_text_regex = r'[^а-яА-ЯёЁ]+'\n",
    "stop_words = set(stopwords.words('russian'))\n",
    "\n",
    "\n",
    "def clean_text(text):\n",
    "    text = re.sub(only_text_regex, ' ', text)\n",
    "    text = ' '.join([word for word in text.split() if word.lower() not in stop_words])\n",
    "    \n",
    "    return text"
   ]
  },
  {
   "cell_type": "code",
   "execution_count": 5,
   "id": "9b16f257",
   "metadata": {},
   "outputs": [
    {
     "name": "stderr",
     "output_type": "stream",
     "text": [
      "100%|████████████████████████████████████████████████████████████████████████████| 100/100 [00:00<00:00, 100294.21it/s]\n",
      "100%|████████████████████████████████████████████████████████████████████████████| 400/400 [00:00<00:00, 200660.40it/s]\n"
     ]
    }
   ],
   "source": [
    "for i in tqdm(range(len(articles_test))):\n",
    "    articles_test[i]=clean_text(articles_test[i])\n",
    "    \n",
    "for i in tqdm(range(len(articles_train))):\n",
    "    articles_train[i]=clean_text(articles_train[i])"
   ]
  },
  {
   "cell_type": "code",
   "execution_count": 6,
   "id": "384cbef6",
   "metadata": {},
   "outputs": [],
   "source": [
    "vocab_size =5000\n",
    "embedding_dim =64\n",
    "max_length =200\n",
    "oov_tok = '<OOV>' "
   ]
  },
  {
   "cell_type": "code",
   "execution_count": 7,
   "id": "53e54862",
   "metadata": {},
   "outputs": [],
   "source": [
    "train_articles = articles_train\n",
    "train_labels = labels_train\n",
    "validation_articles = articles_test\n",
    "validation_labels = labels_test"
   ]
  },
  {
   "cell_type": "code",
   "execution_count": 8,
   "id": "4eda60c4",
   "metadata": {},
   "outputs": [
    {
     "name": "stdout",
     "output_type": "stream",
     "text": [
      "train_articles 400\n",
      "train_labels 400\n",
      "validation_articles 100\n",
      "validation_labels 100\n"
     ]
    }
   ],
   "source": [
    "print('train_articles' ,len(train_articles))\n",
    "print('train_labels', len(train_labels))\n",
    "print('validation_articles', len(validation_articles))\n",
    "print('validation_labels', len(validation_labels))"
   ]
  },
  {
   "cell_type": "code",
   "execution_count": 9,
   "id": "66340ceb",
   "metadata": {},
   "outputs": [],
   "source": [
    "tokenizer = Tokenizer(num_words = vocab_size)\n",
    "tokenizer.fit_on_texts(train_articles)\n",
    "word_index = tokenizer.word_index"
   ]
  },
  {
   "cell_type": "code",
   "execution_count": 10,
   "id": "255a3c09",
   "metadata": {},
   "outputs": [
    {
     "data": {
      "text/plain": [
       "400"
      ]
     },
     "execution_count": 10,
     "metadata": {},
     "output_type": "execute_result"
    }
   ],
   "source": [
    "train_sequences = tokenizer.texts_to_sequences(train_articles)\n",
    "len(train_sequences)"
   ]
  },
  {
   "cell_type": "code",
   "execution_count": 11,
   "id": "6cae8725",
   "metadata": {},
   "outputs": [],
   "source": [
    "train_padded = pad_sequences(train_sequences, maxlen=max_length)"
   ]
  },
  {
   "cell_type": "code",
   "execution_count": 12,
   "id": "3a31140e",
   "metadata": {},
   "outputs": [
    {
     "data": {
      "text/plain": [
       "(400, 200)"
      ]
     },
     "execution_count": 12,
     "metadata": {},
     "output_type": "execute_result"
    }
   ],
   "source": [
    "len(train_padded),len(train_padded[0])"
   ]
  },
  {
   "cell_type": "code",
   "execution_count": 13,
   "id": "8da00aa7",
   "metadata": {},
   "outputs": [],
   "source": [
    "validation_sequences = tokenizer.texts_to_sequences(validation_articles)\n",
    "validation_padded = pad_sequences(validation_sequences, maxlen=max_length)"
   ]
  },
  {
   "cell_type": "code",
   "execution_count": 14,
   "id": "94bd8657",
   "metadata": {},
   "outputs": [
    {
     "name": "stderr",
     "output_type": "stream",
     "text": [
      "9it [00:00, ?it/s]\n"
     ]
    },
    {
     "data": {
      "text/plain": [
       "{'NOT_CLASSIFIED': 0,\n",
       " 'SERVICE': 1,\n",
       " 'TAX': 2,\n",
       " 'LOAN': 3,\n",
       " 'NON_FOOD_GOODS': 4,\n",
       " 'REALE_STATE': 5,\n",
       " 'FOOD_GOODS': 6,\n",
       " 'LEASING': 7,\n",
       " 'BANK_SERVICE': 8}"
      ]
     },
     "execution_count": 14,
     "metadata": {},
     "output_type": "execute_result"
    }
   ],
   "source": [
    "dict_={}\n",
    "for i,x in tqdm(enumerate(set(labels_train))):\n",
    "    dict_[x]=i\n",
    "dict_"
   ]
  },
  {
   "cell_type": "code",
   "execution_count": 15,
   "id": "dd674d97",
   "metadata": {},
   "outputs": [
    {
     "name": "stderr",
     "output_type": "stream",
     "text": [
      "100%|████████████████████████████████████████████████████████████████████████████| 400/400 [00:00<00:00, 401176.85it/s]\n",
      "100%|█████████████████████████████████████████████████████████████████████████████| 100/100 [00:00<00:00, 83970.05it/s]\n"
     ]
    }
   ],
   "source": [
    "training_label_seq = np.array([dict_[train_labels[i]] for i in tqdm(range(len(train_labels)))])\n",
    "validation_label_seq = np.array([dict_[np.array(validation_labels)[i]] for i in tqdm(range(len(validation_labels)))])\n"
   ]
  },
  {
   "cell_type": "code",
   "execution_count": 16,
   "id": "2788d612",
   "metadata": {},
   "outputs": [
    {
     "data": {
      "text/plain": [
       "('TAX', 2)"
      ]
     },
     "execution_count": 16,
     "metadata": {},
     "output_type": "execute_result"
    }
   ],
   "source": [
    "train_labels[0], training_label_seq[0]\n"
   ]
  },
  {
   "cell_type": "code",
   "execution_count": 17,
   "id": "c44e7d16",
   "metadata": {},
   "outputs": [
    {
     "data": {
      "text/plain": [
       "4    77\n",
       "6    72\n",
       "1    70\n",
       "8    39\n",
       "2    38\n",
       "3    33\n",
       "7    31\n",
       "5    22\n",
       "0    18\n",
       "dtype: int64"
      ]
     },
     "execution_count": 17,
     "metadata": {},
     "output_type": "execute_result"
    }
   ],
   "source": [
    "pd.DataFrame(training_label_seq).value_counts()\n"
   ]
  },
  {
   "cell_type": "code",
   "execution_count": 18,
   "id": "bfd80c01",
   "metadata": {},
   "outputs": [
    {
     "data": {
      "text/plain": [
       "4    19\n",
       "1    18\n",
       "6    18\n",
       "2    10\n",
       "8    10\n",
       "3     8\n",
       "7     7\n",
       "0     5\n",
       "5     5\n",
       "dtype: int64"
      ]
     },
     "execution_count": 18,
     "metadata": {},
     "output_type": "execute_result"
    }
   ],
   "source": [
    "pd.DataFrame(validation_label_seq).value_counts()\n"
   ]
  },
  {
   "cell_type": "code",
   "execution_count": 19,
   "id": "950135f2",
   "metadata": {},
   "outputs": [
    {
     "data": {
      "text/plain": [
       "Text(0, 0.5, 'Count')"
      ]
     },
     "execution_count": 19,
     "metadata": {},
     "output_type": "execute_result"
    },
    {
     "data": {
      "image/png": "[encoded data removed]",
      "text/plain": [
       "<Figure size 2000x500 with 2 Axes>"
      ]
     },
     "metadata": {},
     "output_type": "display_data"
    }
   ],
   "source": [
    "plt.figure(figsize=(20,5))\n",
    "plt.subplot(1,2,1)\n",
    "plt.title(\"Distribution Of Train\",fontsize=20)\n",
    "sns.histplot(training_label_seq,color='red')\n",
    "plt.xlabel('Label',fontsize=20)\n",
    "plt.ylabel(\"Count\",fontsize=20)\n",
    "plt.subplot(1,2,2)\n",
    "plt.title(\"Distribution Of Test\",fontsize=20)\n",
    "sns.histplot(validation_label_seq,color='red')\n",
    "plt.xlabel('Label',fontsize=20)\n",
    "plt.ylabel(\"Count\",fontsize=20)"
   ]
  },
  {
   "cell_type": "code",
   "execution_count": 20,
   "id": "bdcfde50",
   "metadata": {},
   "outputs": [
    {
     "name": "stdout",
     "output_type": "stream",
     "text": [
      "Train padded shape: (400, 200)\n",
      "Training labels shape: (400,)\n",
      "Unique labels in training data: [0 1 2 3 4 5 6 7 8]\n",
      "Epoch 1/50\n"
     ]
    },
    {
     "name": "stderr",
     "output_type": "stream",
     "text": [
      "C:\\ProgramData\\Anaconda\\lib\\site-packages\\keras\\src\\layers\\core\\embedding.py:90: UserWarning: Argument `input_length` is deprecated. Just remove it.\n",
      "  warnings.warn(\n"
     ]
    },
    {
     "name": "stdout",
     "output_type": "stream",
     "text": [
      "\u001b[1m13/13\u001b[0m \u001b[32m━━━━━━━━━━━━━━━━━━━━\u001b[0m\u001b[37m\u001b[0m \u001b[1m3s\u001b[0m 127ms/step - accuracy: 0.1951 - loss: 2.1519 - val_accuracy: 0.1900 - val_loss: 2.0099 - learning_rate: 0.0010\n",
      "Epoch 2/50\n",
      "\u001b[1m13/13\u001b[0m \u001b[32m━━━━━━━━━━━━━━━━━━━━\u001b[0m\u001b[37m\u001b[0m \u001b[1m1s\u001b[0m 111ms/step - accuracy: 0.3251 - loss: 1.9565 - val_accuracy: 0.4100 - val_loss: 1.7786 - learning_rate: 0.0010\n",
      "Epoch 3/50\n",
      "\u001b[1m13/13\u001b[0m \u001b[32m━━━━━━━━━━━━━━━━━━━━\u001b[0m\u001b[37m\u001b[0m \u001b[1m1s\u001b[0m 109ms/step - accuracy: 0.4455 - loss: 1.6507 - val_accuracy: 0.6100 - val_loss: 1.2722 - learning_rate: 0.0010\n",
      "Epoch 4/50\n",
      "\u001b[1m13/13\u001b[0m \u001b[32m━━━━━━━━━━━━━━━━━━━━\u001b[0m\u001b[37m\u001b[0m \u001b[1m1s\u001b[0m 112ms/step - accuracy: 0.6053 - loss: 1.1350 - val_accuracy: 0.7200 - val_loss: 0.8974 - learning_rate: 0.0010\n",
      "Epoch 5/50\n",
      "\u001b[1m13/13\u001b[0m \u001b[32m━━━━━━━━━━━━━━━━━━━━\u001b[0m\u001b[37m\u001b[0m \u001b[1m1s\u001b[0m 111ms/step - accuracy: 0.7459 - loss: 0.8157 - val_accuracy: 0.7300 - val_loss: 0.6599 - learning_rate: 0.0010\n",
      "Epoch 6/50\n",
      "\u001b[1m13/13\u001b[0m \u001b[32m━━━━━━━━━━━━━━━━━━━━\u001b[0m\u001b[37m\u001b[0m \u001b[1m2s\u001b[0m 135ms/step - accuracy: 0.8259 - loss: 0.5441 - val_accuracy: 0.8300 - val_loss: 0.4662 - learning_rate: 0.0010\n",
      "Epoch 7/50\n",
      "\u001b[1m13/13\u001b[0m \u001b[32m━━━━━━━━━━━━━━━━━━━━\u001b[0m\u001b[37m\u001b[0m \u001b[1m2s\u001b[0m 129ms/step - accuracy: 0.9127 - loss: 0.3333 - val_accuracy: 0.8100 - val_loss: 0.3956 - learning_rate: 0.0010\n",
      "Epoch 8/50\n",
      "\u001b[1m13/13\u001b[0m \u001b[32m━━━━━━━━━━━━━━━━━━━━\u001b[0m\u001b[37m\u001b[0m \u001b[1m2s\u001b[0m 131ms/step - accuracy: 0.9552 - loss: 0.2077 - val_accuracy: 0.9100 - val_loss: 0.2443 - learning_rate: 0.0010\n",
      "Epoch 9/50\n",
      "\u001b[1m13/13\u001b[0m \u001b[32m━━━━━━━━━━━━━━━━━━━━\u001b[0m\u001b[37m\u001b[0m \u001b[1m2s\u001b[0m 130ms/step - accuracy: 0.9767 - loss: 0.1175 - val_accuracy: 0.9400 - val_loss: 0.1817 - learning_rate: 0.0010\n",
      "Epoch 10/50\n",
      "\u001b[1m13/13\u001b[0m \u001b[32m━━━━━━━━━━━━━━━━━━━━\u001b[0m\u001b[37m\u001b[0m \u001b[1m2s\u001b[0m 131ms/step - accuracy: 0.9924 - loss: 0.0796 - val_accuracy: 0.9400 - val_loss: 0.1446 - learning_rate: 0.0010\n",
      "Epoch 11/50\n",
      "\u001b[1m13/13\u001b[0m \u001b[32m━━━━━━━━━━━━━━━━━━━━\u001b[0m\u001b[37m\u001b[0m \u001b[1m2s\u001b[0m 132ms/step - accuracy: 0.9858 - loss: 0.0637 - val_accuracy: 0.9500 - val_loss: 0.1281 - learning_rate: 0.0010\n",
      "Epoch 12/50\n",
      "\u001b[1m13/13\u001b[0m \u001b[32m━━━━━━━━━━━━━━━━━━━━\u001b[0m\u001b[37m\u001b[0m \u001b[1m2s\u001b[0m 134ms/step - accuracy: 0.9944 - loss: 0.0413 - val_accuracy: 0.9500 - val_loss: 0.1175 - learning_rate: 0.0010\n",
      "Epoch 13/50\n",
      "\u001b[1m13/13\u001b[0m \u001b[32m━━━━━━━━━━━━━━━━━━━━\u001b[0m\u001b[37m\u001b[0m \u001b[1m2s\u001b[0m 132ms/step - accuracy: 0.9949 - loss: 0.0360 - val_accuracy: 0.9500 - val_loss: 0.1053 - learning_rate: 0.0010\n",
      "Epoch 14/50\n",
      "\u001b[1m13/13\u001b[0m \u001b[32m━━━━━━━━━━━━━━━━━━━━\u001b[0m\u001b[37m\u001b[0m \u001b[1m2s\u001b[0m 133ms/step - accuracy: 1.0000 - loss: 0.0209 - val_accuracy: 0.9600 - val_loss: 0.1096 - learning_rate: 0.0010\n",
      "Epoch 15/50\n",
      "\u001b[1m13/13\u001b[0m \u001b[32m━━━━━━━━━━━━━━━━━━━━\u001b[0m\u001b[37m\u001b[0m \u001b[1m2s\u001b[0m 133ms/step - accuracy: 1.0000 - loss: 0.0175 - val_accuracy: 0.9500 - val_loss: 0.1112 - learning_rate: 0.0010\n",
      "Epoch 16/50\n",
      "\u001b[1m13/13\u001b[0m \u001b[32m━━━━━━━━━━━━━━━━━━━━\u001b[0m\u001b[37m\u001b[0m \u001b[1m2s\u001b[0m 133ms/step - accuracy: 1.0000 - loss: 0.0171 - val_accuracy: 0.9600 - val_loss: 0.1005 - learning_rate: 0.0010\n",
      "Epoch 17/50\n",
      "\u001b[1m13/13\u001b[0m \u001b[32m━━━━━━━━━━━━━━━━━━━━\u001b[0m\u001b[37m\u001b[0m \u001b[1m2s\u001b[0m 137ms/step - accuracy: 0.9982 - loss: 0.0230 - val_accuracy: 0.9600 - val_loss: 0.1023 - learning_rate: 0.0010\n",
      "Epoch 18/50\n",
      "\u001b[1m13/13\u001b[0m \u001b[32m━━━━━━━━━━━━━━━━━━━━\u001b[0m\u001b[37m\u001b[0m \u001b[1m2s\u001b[0m 132ms/step - accuracy: 0.9982 - loss: 0.0157 - val_accuracy: 0.9800 - val_loss: 0.0863 - learning_rate: 0.0010\n",
      "Epoch 19/50\n",
      "\u001b[1m13/13\u001b[0m \u001b[32m━━━━━━━━━━━━━━━━━━━━\u001b[0m\u001b[37m\u001b[0m \u001b[1m2s\u001b[0m 127ms/step - accuracy: 1.0000 - loss: 0.0111 - val_accuracy: 0.9600 - val_loss: 0.0792 - learning_rate: 0.0010\n",
      "Epoch 20/50\n",
      "\u001b[1m13/13\u001b[0m \u001b[32m━━━━━━━━━━━━━━━━━━━━\u001b[0m\u001b[37m\u001b[0m \u001b[1m2s\u001b[0m 134ms/step - accuracy: 1.0000 - loss: 0.0086 - val_accuracy: 0.9700 - val_loss: 0.0776 - learning_rate: 0.0010\n",
      "Epoch 21/50\n",
      "\u001b[1m13/13\u001b[0m \u001b[32m━━━━━━━━━━━━━━━━━━━━\u001b[0m\u001b[37m\u001b[0m \u001b[1m2s\u001b[0m 132ms/step - accuracy: 1.0000 - loss: 0.0084 - val_accuracy: 0.9700 - val_loss: 0.0789 - learning_rate: 0.0010\n",
      "Epoch 22/50\n",
      "\u001b[1m13/13\u001b[0m \u001b[32m━━━━━━━━━━━━━━━━━━━━\u001b[0m\u001b[37m\u001b[0m \u001b[1m2s\u001b[0m 132ms/step - accuracy: 1.0000 - loss: 0.0065 - val_accuracy: 0.9700 - val_loss: 0.0794 - learning_rate: 0.0010\n",
      "Epoch 23/50\n",
      "\u001b[1m13/13\u001b[0m \u001b[32m━━━━━━━━━━━━━━━━━━━━\u001b[0m\u001b[37m\u001b[0m \u001b[1m2s\u001b[0m 131ms/step - accuracy: 1.0000 - loss: 0.0046 - val_accuracy: 0.9700 - val_loss: 0.0803 - learning_rate: 0.0010\n",
      "Epoch 24/50\n",
      "\u001b[1m13/13\u001b[0m \u001b[32m━━━━━━━━━━━━━━━━━━━━\u001b[0m\u001b[37m\u001b[0m \u001b[1m2s\u001b[0m 133ms/step - accuracy: 1.0000 - loss: 0.0050 - val_accuracy: 0.9700 - val_loss: 0.0804 - learning_rate: 0.0010\n",
      "Epoch 25/50\n",
      "\u001b[1m13/13\u001b[0m \u001b[32m━━━━━━━━━━━━━━━━━━━━\u001b[0m\u001b[37m\u001b[0m \u001b[1m2s\u001b[0m 128ms/step - accuracy: 1.0000 - loss: 0.0042 - val_accuracy: 0.9700 - val_loss: 0.0813 - learning_rate: 0.0010\n",
      "Epoch 26/50\n",
      "\u001b[1m13/13\u001b[0m \u001b[32m━━━━━━━━━━━━━━━━━━━━\u001b[0m\u001b[37m\u001b[0m \u001b[1m2s\u001b[0m 130ms/step - accuracy: 1.0000 - loss: 0.0033 - val_accuracy: 0.9700 - val_loss: 0.0816 - learning_rate: 2.0000e-04\n",
      "Epoch 27/50\n",
      "\u001b[1m13/13\u001b[0m \u001b[32m━━━━━━━━━━━━━━━━━━━━\u001b[0m\u001b[37m\u001b[0m \u001b[1m2s\u001b[0m 130ms/step - accuracy: 1.0000 - loss: 0.0039 - val_accuracy: 0.9700 - val_loss: 0.0821 - learning_rate: 2.0000e-04\n",
      "Epoch 28/50\n",
      "\u001b[1m13/13\u001b[0m \u001b[32m━━━━━━━━━━━━━━━━━━━━\u001b[0m\u001b[37m\u001b[0m \u001b[1m2s\u001b[0m 135ms/step - accuracy: 1.0000 - loss: 0.0038 - val_accuracy: 0.9700 - val_loss: 0.0823 - learning_rate: 2.0000e-04\n",
      "Epoch 29/50\n",
      "\u001b[1m13/13\u001b[0m \u001b[32m━━━━━━━━━━━━━━━━━━━━\u001b[0m\u001b[37m\u001b[0m \u001b[1m2s\u001b[0m 129ms/step - accuracy: 1.0000 - loss: 0.0039 - val_accuracy: 0.9700 - val_loss: 0.0827 - learning_rate: 2.0000e-04\n",
      "Epoch 30/50\n",
      "\u001b[1m13/13\u001b[0m \u001b[32m━━━━━━━━━━━━━━━━━━━━\u001b[0m\u001b[37m\u001b[0m \u001b[1m2s\u001b[0m 127ms/step - accuracy: 1.0000 - loss: 0.0030 - val_accuracy: 0.9700 - val_loss: 0.0832 - learning_rate: 2.0000e-04\n"
     ]
    }
   ],
   "source": [
    "print(\"Train padded shape:\", train_padded.shape) \n",
    "print(\"Training labels shape:\", training_label_seq.shape)  \n",
    "print(\"Unique labels in training data:\", np.unique(training_label_seq))  \n",
    "\n",
    "model = Sequential([\n",
    "    Embedding(input_dim=20000, output_dim=100, input_length=200),\n",
    "    Bidirectional(GRU(128)),  \n",
    "    Dropout(0.3),\n",
    "    Dense(9, activation='softmax')  \n",
    "   ])\n",
    "\n",
    "model.compile(loss='sparse_categorical_crossentropy', optimizer='adam', metrics=['accuracy'])\n",
    "\n",
    "\n",
    "reduce_lr = ReduceLROnPlateau(monitor='val_loss', factor=0.2, patience=5, min_lr=1e-6)\n",
    "early_stop = EarlyStopping(monitor='val_loss', patience=10, restore_best_weights=True)\n",
    "\n",
    "\n",
    "history = model.fit(train_padded, training_label_seq, epochs=50,\n",
    "                       validation_data=(validation_padded, validation_label_seq),\n",
    "                       callbacks=[reduce_lr, early_stop])\n",
    "   "
   ]
  },
  {
   "cell_type": "code",
   "execution_count": 21,
   "id": "d8e813b0",
   "metadata": {},
   "outputs": [
    {
     "data": {
      "text/html": [
       "<div>\n",
       "<style scoped>\n",
       "    .dataframe tbody tr th:only-of-type {\n",
       "        vertical-align: middle;\n",
       "    }\n",
       "\n",
       "    .dataframe tbody tr th {\n",
       "        vertical-align: top;\n",
       "    }\n",
       "\n",
       "    .dataframe thead th {\n",
       "        text-align: right;\n",
       "    }\n",
       "</style>\n",
       "<table border=\"1\" class=\"dataframe\">\n",
       "  <thead>\n",
       "    <tr style=\"text-align: right;\">\n",
       "      <th></th>\n",
       "      <th>accuracy</th>\n",
       "      <th>loss</th>\n",
       "      <th>val_accuracy</th>\n",
       "      <th>val_loss</th>\n",
       "      <th>learning_rate</th>\n",
       "    </tr>\n",
       "  </thead>\n",
       "  <tbody>\n",
       "    <tr>\n",
       "      <th>0</th>\n",
       "      <td>0.2150</td>\n",
       "      <td>2.124820</td>\n",
       "      <td>0.19</td>\n",
       "      <td>2.009924</td>\n",
       "      <td>0.0010</td>\n",
       "    </tr>\n",
       "    <tr>\n",
       "      <th>1</th>\n",
       "      <td>0.3500</td>\n",
       "      <td>1.937444</td>\n",
       "      <td>0.41</td>\n",
       "      <td>1.778602</td>\n",
       "      <td>0.0010</td>\n",
       "    </tr>\n",
       "    <tr>\n",
       "      <th>2</th>\n",
       "      <td>0.4700</td>\n",
       "      <td>1.563319</td>\n",
       "      <td>0.61</td>\n",
       "      <td>1.272229</td>\n",
       "      <td>0.0010</td>\n",
       "    </tr>\n",
       "    <tr>\n",
       "      <th>3</th>\n",
       "      <td>0.6175</td>\n",
       "      <td>1.066534</td>\n",
       "      <td>0.72</td>\n",
       "      <td>0.897439</td>\n",
       "      <td>0.0010</td>\n",
       "    </tr>\n",
       "    <tr>\n",
       "      <th>4</th>\n",
       "      <td>0.7600</td>\n",
       "      <td>0.743657</td>\n",
       "      <td>0.73</td>\n",
       "      <td>0.659864</td>\n",
       "      <td>0.0010</td>\n",
       "    </tr>\n",
       "    <tr>\n",
       "      <th>5</th>\n",
       "      <td>0.8375</td>\n",
       "      <td>0.486979</td>\n",
       "      <td>0.83</td>\n",
       "      <td>0.466213</td>\n",
       "      <td>0.0010</td>\n",
       "    </tr>\n",
       "    <tr>\n",
       "      <th>6</th>\n",
       "      <td>0.9200</td>\n",
       "      <td>0.297629</td>\n",
       "      <td>0.81</td>\n",
       "      <td>0.395582</td>\n",
       "      <td>0.0010</td>\n",
       "    </tr>\n",
       "    <tr>\n",
       "      <th>7</th>\n",
       "      <td>0.9700</td>\n",
       "      <td>0.170679</td>\n",
       "      <td>0.91</td>\n",
       "      <td>0.244279</td>\n",
       "      <td>0.0010</td>\n",
       "    </tr>\n",
       "    <tr>\n",
       "      <th>8</th>\n",
       "      <td>0.9825</td>\n",
       "      <td>0.098492</td>\n",
       "      <td>0.94</td>\n",
       "      <td>0.181735</td>\n",
       "      <td>0.0010</td>\n",
       "    </tr>\n",
       "    <tr>\n",
       "      <th>9</th>\n",
       "      <td>0.9925</td>\n",
       "      <td>0.071791</td>\n",
       "      <td>0.94</td>\n",
       "      <td>0.144585</td>\n",
       "      <td>0.0010</td>\n",
       "    </tr>\n",
       "    <tr>\n",
       "      <th>10</th>\n",
       "      <td>0.9925</td>\n",
       "      <td>0.051437</td>\n",
       "      <td>0.95</td>\n",
       "      <td>0.128085</td>\n",
       "      <td>0.0010</td>\n",
       "    </tr>\n",
       "    <tr>\n",
       "      <th>11</th>\n",
       "      <td>0.9950</td>\n",
       "      <td>0.034407</td>\n",
       "      <td>0.95</td>\n",
       "      <td>0.117480</td>\n",
       "      <td>0.0010</td>\n",
       "    </tr>\n",
       "    <tr>\n",
       "      <th>12</th>\n",
       "      <td>0.9975</td>\n",
       "      <td>0.028478</td>\n",
       "      <td>0.95</td>\n",
       "      <td>0.105330</td>\n",
       "      <td>0.0010</td>\n",
       "    </tr>\n",
       "    <tr>\n",
       "      <th>13</th>\n",
       "      <td>1.0000</td>\n",
       "      <td>0.019078</td>\n",
       "      <td>0.96</td>\n",
       "      <td>0.109642</td>\n",
       "      <td>0.0010</td>\n",
       "    </tr>\n",
       "    <tr>\n",
       "      <th>14</th>\n",
       "      <td>1.0000</td>\n",
       "      <td>0.015673</td>\n",
       "      <td>0.95</td>\n",
       "      <td>0.111229</td>\n",
       "      <td>0.0010</td>\n",
       "    </tr>\n",
       "    <tr>\n",
       "      <th>15</th>\n",
       "      <td>1.0000</td>\n",
       "      <td>0.014716</td>\n",
       "      <td>0.96</td>\n",
       "      <td>0.100502</td>\n",
       "      <td>0.0010</td>\n",
       "    </tr>\n",
       "    <tr>\n",
       "      <th>16</th>\n",
       "      <td>0.9975</td>\n",
       "      <td>0.025766</td>\n",
       "      <td>0.96</td>\n",
       "      <td>0.102317</td>\n",
       "      <td>0.0010</td>\n",
       "    </tr>\n",
       "    <tr>\n",
       "      <th>17</th>\n",
       "      <td>0.9975</td>\n",
       "      <td>0.014852</td>\n",
       "      <td>0.98</td>\n",
       "      <td>0.086330</td>\n",
       "      <td>0.0010</td>\n",
       "    </tr>\n",
       "    <tr>\n",
       "      <th>18</th>\n",
       "      <td>1.0000</td>\n",
       "      <td>0.009277</td>\n",
       "      <td>0.96</td>\n",
       "      <td>0.079242</td>\n",
       "      <td>0.0010</td>\n",
       "    </tr>\n",
       "    <tr>\n",
       "      <th>19</th>\n",
       "      <td>1.0000</td>\n",
       "      <td>0.007818</td>\n",
       "      <td>0.97</td>\n",
       "      <td>0.077575</td>\n",
       "      <td>0.0010</td>\n",
       "    </tr>\n",
       "    <tr>\n",
       "      <th>20</th>\n",
       "      <td>1.0000</td>\n",
       "      <td>0.006684</td>\n",
       "      <td>0.97</td>\n",
       "      <td>0.078883</td>\n",
       "      <td>0.0010</td>\n",
       "    </tr>\n",
       "    <tr>\n",
       "      <th>21</th>\n",
       "      <td>1.0000</td>\n",
       "      <td>0.006020</td>\n",
       "      <td>0.97</td>\n",
       "      <td>0.079418</td>\n",
       "      <td>0.0010</td>\n",
       "    </tr>\n",
       "    <tr>\n",
       "      <th>22</th>\n",
       "      <td>1.0000</td>\n",
       "      <td>0.004571</td>\n",
       "      <td>0.97</td>\n",
       "      <td>0.080323</td>\n",
       "      <td>0.0010</td>\n",
       "    </tr>\n",
       "    <tr>\n",
       "      <th>23</th>\n",
       "      <td>1.0000</td>\n",
       "      <td>0.004225</td>\n",
       "      <td>0.97</td>\n",
       "      <td>0.080431</td>\n",
       "      <td>0.0010</td>\n",
       "    </tr>\n",
       "    <tr>\n",
       "      <th>24</th>\n",
       "      <td>1.0000</td>\n",
       "      <td>0.003631</td>\n",
       "      <td>0.97</td>\n",
       "      <td>0.081282</td>\n",
       "      <td>0.0010</td>\n",
       "    </tr>\n",
       "    <tr>\n",
       "      <th>25</th>\n",
       "      <td>1.0000</td>\n",
       "      <td>0.003322</td>\n",
       "      <td>0.97</td>\n",
       "      <td>0.081592</td>\n",
       "      <td>0.0002</td>\n",
       "    </tr>\n",
       "    <tr>\n",
       "      <th>26</th>\n",
       "      <td>1.0000</td>\n",
       "      <td>0.003688</td>\n",
       "      <td>0.97</td>\n",
       "      <td>0.082071</td>\n",
       "      <td>0.0002</td>\n",
       "    </tr>\n",
       "    <tr>\n",
       "      <th>27</th>\n",
       "      <td>1.0000</td>\n",
       "      <td>0.003595</td>\n",
       "      <td>0.97</td>\n",
       "      <td>0.082338</td>\n",
       "      <td>0.0002</td>\n",
       "    </tr>\n",
       "    <tr>\n",
       "      <th>28</th>\n",
       "      <td>1.0000</td>\n",
       "      <td>0.003749</td>\n",
       "      <td>0.97</td>\n",
       "      <td>0.082662</td>\n",
       "      <td>0.0002</td>\n",
       "    </tr>\n",
       "    <tr>\n",
       "      <th>29</th>\n",
       "      <td>1.0000</td>\n",
       "      <td>0.003051</td>\n",
       "      <td>0.97</td>\n",
       "      <td>0.083153</td>\n",
       "      <td>0.0002</td>\n",
       "    </tr>\n",
       "  </tbody>\n",
       "</table>\n",
       "</div>"
      ],
      "text/plain": [
       "    accuracy      loss  val_accuracy  val_loss  learning_rate\n",
       "0     0.2150  2.124820          0.19  2.009924         0.0010\n",
       "1     0.3500  1.937444          0.41  1.778602         0.0010\n",
       "2     0.4700  1.563319          0.61  1.272229         0.0010\n",
       "3     0.6175  1.066534          0.72  0.897439         0.0010\n",
       "4     0.7600  0.743657          0.73  0.659864         0.0010\n",
       "5     0.8375  0.486979          0.83  0.466213         0.0010\n",
       "6     0.9200  0.297629          0.81  0.395582         0.0010\n",
       "7     0.9700  0.170679          0.91  0.244279         0.0010\n",
       "8     0.9825  0.098492          0.94  0.181735         0.0010\n",
       "9     0.9925  0.071791          0.94  0.144585         0.0010\n",
       "10    0.9925  0.051437          0.95  0.128085         0.0010\n",
       "11    0.9950  0.034407          0.95  0.117480         0.0010\n",
       "12    0.9975  0.028478          0.95  0.105330         0.0010\n",
       "13    1.0000  0.019078          0.96  0.109642         0.0010\n",
       "14    1.0000  0.015673          0.95  0.111229         0.0010\n",
       "15    1.0000  0.014716          0.96  0.100502         0.0010\n",
       "16    0.9975  0.025766          0.96  0.102317         0.0010\n",
       "17    0.9975  0.014852          0.98  0.086330         0.0010\n",
       "18    1.0000  0.009277          0.96  0.079242         0.0010\n",
       "19    1.0000  0.007818          0.97  0.077575         0.0010\n",
       "20    1.0000  0.006684          0.97  0.078883         0.0010\n",
       "21    1.0000  0.006020          0.97  0.079418         0.0010\n",
       "22    1.0000  0.004571          0.97  0.080323         0.0010\n",
       "23    1.0000  0.004225          0.97  0.080431         0.0010\n",
       "24    1.0000  0.003631          0.97  0.081282         0.0010\n",
       "25    1.0000  0.003322          0.97  0.081592         0.0002\n",
       "26    1.0000  0.003688          0.97  0.082071         0.0002\n",
       "27    1.0000  0.003595          0.97  0.082338         0.0002\n",
       "28    1.0000  0.003749          0.97  0.082662         0.0002\n",
       "29    1.0000  0.003051          0.97  0.083153         0.0002"
      ]
     },
     "execution_count": 21,
     "metadata": {},
     "output_type": "execute_result"
    }
   ],
   "source": [
    "pd.DataFrame(history.history)\n"
   ]
  },
  {
   "cell_type": "code",
   "execution_count": 22,
   "id": "e233e4f6",
   "metadata": {},
   "outputs": [
    {
     "data": {
      "image/png": "[encoded data removed]",
      "text/plain": [
       "<Figure size 640x480 with 1 Axes>"
      ]
     },
     "metadata": {},
     "output_type": "display_data"
    }
   ],
   "source": [
    "plt.plot(history.history['accuracy'])\n",
    "plt.plot(history.history['val_accuracy'])\n",
    "plt.title('model accuracy')\n",
    "plt.ylabel('accuracy')\n",
    "plt.xlabel('epoch')\n",
    "plt.legend(['train', 'test'], loc='upper left')\n",
    "plt.show()"
   ]
  },
  {
   "cell_type": "code",
   "execution_count": 23,
   "id": "038fe31a",
   "metadata": {},
   "outputs": [
    {
     "data": {
      "image/png": "[encoded data removed]",
      "text/plain": [
       "<Figure size 640x480 with 1 Axes>"
      ]
     },
     "metadata": {},
     "output_type": "display_data"
    }
   ],
   "source": [
    "plt.plot(history.history['loss'])\n",
    "plt.plot(history.history['val_loss'])\n",
    "plt.title('model loss')\n",
    "plt.ylabel('loss')\n",
    "plt.xlabel('epoch')\n",
    "plt.legend(['train', 'test'], loc='upper left')\n",
    "plt.show()"
   ]
  },
  {
   "cell_type": "code",
   "execution_count": 24,
   "id": "39a5259c",
   "metadata": {},
   "outputs": [
    {
     "name": "stdout",
     "output_type": "stream",
     "text": [
      "\u001b[1m4/4\u001b[0m \u001b[32m━━━━━━━━━━━━━━━━━━━━\u001b[0m\u001b[37m\u001b[0m \u001b[1m1s\u001b[0m 151ms/step\n"
     ]
    }
   ],
   "source": [
    "y_pred=model.predict(validation_padded)"
   ]
  },
  {
   "cell_type": "code",
   "execution_count": 25,
   "id": "fe8d1fd6",
   "metadata": {},
   "outputs": [
    {
     "name": "stderr",
     "output_type": "stream",
     "text": [
      "100%|█████████████████████████████████████████████████████████████████████████████| 100/100 [00:00<00:00, 97202.87it/s]\n"
     ]
    },
    {
     "data": {
      "text/html": [
       "<div>\n",
       "<style scoped>\n",
       "    .dataframe tbody tr th:only-of-type {\n",
       "        vertical-align: middle;\n",
       "    }\n",
       "\n",
       "    .dataframe tbody tr th {\n",
       "        vertical-align: top;\n",
       "    }\n",
       "\n",
       "    .dataframe thead th {\n",
       "        text-align: right;\n",
       "    }\n",
       "</style>\n",
       "<table border=\"1\" class=\"dataframe\">\n",
       "  <thead>\n",
       "    <tr style=\"text-align: right;\">\n",
       "      <th></th>\n",
       "      <th>Prediction</th>\n",
       "      <th>actual</th>\n",
       "    </tr>\n",
       "  </thead>\n",
       "  <tbody>\n",
       "    <tr>\n",
       "      <th>0</th>\n",
       "      <td>6</td>\n",
       "      <td>6</td>\n",
       "    </tr>\n",
       "    <tr>\n",
       "      <th>1</th>\n",
       "      <td>1</td>\n",
       "      <td>1</td>\n",
       "    </tr>\n",
       "    <tr>\n",
       "      <th>2</th>\n",
       "      <td>7</td>\n",
       "      <td>7</td>\n",
       "    </tr>\n",
       "    <tr>\n",
       "      <th>3</th>\n",
       "      <td>8</td>\n",
       "      <td>8</td>\n",
       "    </tr>\n",
       "    <tr>\n",
       "      <th>4</th>\n",
       "      <td>6</td>\n",
       "      <td>6</td>\n",
       "    </tr>\n",
       "    <tr>\n",
       "      <th>...</th>\n",
       "      <td>...</td>\n",
       "      <td>...</td>\n",
       "    </tr>\n",
       "    <tr>\n",
       "      <th>95</th>\n",
       "      <td>4</td>\n",
       "      <td>4</td>\n",
       "    </tr>\n",
       "    <tr>\n",
       "      <th>96</th>\n",
       "      <td>0</td>\n",
       "      <td>0</td>\n",
       "    </tr>\n",
       "    <tr>\n",
       "      <th>97</th>\n",
       "      <td>6</td>\n",
       "      <td>6</td>\n",
       "    </tr>\n",
       "    <tr>\n",
       "      <th>98</th>\n",
       "      <td>6</td>\n",
       "      <td>4</td>\n",
       "    </tr>\n",
       "    <tr>\n",
       "      <th>99</th>\n",
       "      <td>8</td>\n",
       "      <td>8</td>\n",
       "    </tr>\n",
       "  </tbody>\n",
       "</table>\n",
       "<p>100 rows × 2 columns</p>\n",
       "</div>"
      ],
      "text/plain": [
       "    Prediction  actual\n",
       "0            6       6\n",
       "1            1       1\n",
       "2            7       7\n",
       "3            8       8\n",
       "4            6       6\n",
       "..         ...     ...\n",
       "95           4       4\n",
       "96           0       0\n",
       "97           6       6\n",
       "98           6       4\n",
       "99           8       8\n",
       "\n",
       "[100 rows x 2 columns]"
      ]
     },
     "execution_count": 25,
     "metadata": {},
     "output_type": "execute_result"
    }
   ],
   "source": [
    "pred=[np.argmax(i) for i in tqdm(y_pred)]\n",
    "df=pd.DataFrame()\n",
    "df['Prediction'],df['actual']=pred,validation_label_seq\n",
    "df"
   ]
  },
  {
   "cell_type": "code",
   "execution_count": 26,
   "id": "06449ef7",
   "metadata": {},
   "outputs": [
    {
     "data": {
      "image/png": "[encoded data removed]",
      "text/plain": [
       "<Figure size 800x800 with 2 Axes>"
      ]
     },
     "metadata": {},
     "output_type": "display_data"
    },
    {
     "data": {
      "text/plain": [
       "array([[ 5,  0,  0,  0,  0,  0,  0,  0,  0],\n",
       "       [ 0, 18,  0,  0,  0,  0,  0,  0,  0],\n",
       "       [ 0,  0, 10,  0,  0,  0,  0,  0,  0],\n",
       "       [ 0,  0,  0,  8,  0,  0,  0,  0,  0],\n",
       "       [ 0,  0,  0,  0, 17,  0,  2,  0,  0],\n",
       "       [ 0,  0,  0,  0,  0,  5,  0,  0,  0],\n",
       "       [ 0,  0,  0,  0,  1,  0, 17,  0,  0],\n",
       "       [ 0,  0,  0,  0,  0,  0,  0,  7,  0],\n",
       "       [ 0,  0,  0,  0,  0,  0,  0,  0, 10]], dtype=int64)"
      ]
     },
     "execution_count": 26,
     "metadata": {},
     "output_type": "execute_result"
    }
   ],
   "source": [
    "CM = confusion_matrix(validation_label_seq,pred)\n",
    "plt.figure(figsize=(8,8))\n",
    "ax= plt.subplot()\n",
    "sns.heatmap(CM, center = True, fmt='g',ax=ax,annot=True,cmap='Blues_r')\n",
    "ax.set_xlabel('Predicted labels',fontsize=20)\n",
    "ax.set_ylabel('True labels',fontsize=20) \n",
    "ax.set_title('Confusion Matrix',fontsize=20)\n",
    "ax.xaxis.set_ticklabels(dict_.keys()) \n",
    "ax.yaxis.set_ticklabels(dict_.keys())\n",
    "plt.show()\n",
    "CM"
   ]
  },
  {
   "cell_type": "code",
   "execution_count": 27,
   "id": "a0ff1289",
   "metadata": {
    "scrolled": true
   },
   "outputs": [
    {
     "name": "stdout",
     "output_type": "stream",
     "text": [
      "\u001b[1m4/4\u001b[0m \u001b[32m━━━━━━━━━━━━━━━━━━━━\u001b[0m\u001b[37m\u001b[0m \u001b[1m0s\u001b[0m 41ms/step\n",
      "Predicted probabilities shape: (100, 9)\n",
      "Classification Report:n               precision    recall  f1-score   support\n",
      "\n",
      "           0       1.00      1.00      1.00         5\n",
      "           1       1.00      1.00      1.00        18\n",
      "           2       1.00      1.00      1.00        10\n",
      "           3       1.00      1.00      1.00         8\n",
      "           4       0.94      0.89      0.92        19\n",
      "           5       1.00      1.00      1.00         5\n",
      "           6       0.89      0.94      0.92        18\n",
      "           7       1.00      1.00      1.00         7\n",
      "           8       1.00      1.00      1.00        10\n",
      "\n",
      "    accuracy                           0.97       100\n",
      "   macro avg       0.98      0.98      0.98       100\n",
      "weighted avg       0.97      0.97      0.97       100\n",
      "\n",
      "ROC AUC Score: 0.9991873440501785\n",
      "Gini Coefficient: 0.998374688100357\n",
      "Kolmogorov-Smirnov Statistic: 1.0\n",
      "Kolmogorov-Smirnov p-value: 5.943713037534548e-05\n"
     ]
    }
   ],
   "source": [
    "pred_prob = model.predict(validation_padded)\n",
    "\n",
    "\n",
    "print(\"Predicted probabilities shape:\", pred_prob.shape)\n",
    "\n",
    "\n",
    "if len(pred_prob.shape) == 1:\n",
    "    pred_prob = np.expand_dims(pred_prob, axis=1)  \n",
    "\n",
    "\n",
    "if pred_prob.shape[1] == 1:\n",
    "    pred_prob = np.hstack([1 - pred_prob, pred_prob]) \n",
    "\n",
    "\n",
    "pred_labels = np.argmax(pred_prob, axis=1) \n",
    "\n",
    "\n",
    "classification_report_result = classification_report(validation_label_seq, pred_labels)\n",
    "print('Classification Report:n', classification_report_result)\n",
    "\n",
    "\n",
    "roc_auc = roc_auc_score(validation_label_seq, pred_prob, multi_class='ovr')  \n",
    "print('ROC AUC Score:', roc_auc)\n",
    "\n",
    "\n",
    "gini_coefficient = 2 * roc_auc - 1\n",
    "print('Gini Coefficient:', gini_coefficient)\n",
    "\n",
    "\n",
    "ks_statistic, ks_p_value = stats.ks_2samp(pred_prob[validation_label_seq == 0][:, 1], \n",
    "                                           pred_prob[validation_label_seq == 1][:, 1])\n",
    "print('Kolmogorov-Smirnov Statistic:', ks_statistic)\n",
    "print('Kolmogorov-Smirnov p-value:', ks_p_value)"
   ]
  },
  {
   "cell_type": "code",
   "execution_count": 28,
   "id": "55587254",
   "metadata": {},
   "outputs": [],
   "source": [
    "def get_code(N):\n",
    "    for x,y in dict_.items():\n",
    "        if y==N:\n",
    "            return x"
   ]
  },
  {
   "cell_type": "code",
   "execution_count": 29,
   "id": "9017b7d9",
   "metadata": {},
   "outputs": [
    {
     "name": "stdout",
     "output_type": "stream",
     "text": [
      "\u001b[1m1/1\u001b[0m \u001b[32m━━━━━━━━━━━━━━━━━━━━\u001b[0m\u001b[37m\u001b[0m \u001b[1m0s\u001b[0m 41ms/step\n",
      "TAX\n"
     ]
    }
   ],
   "source": [
    "txt = ['Оплата штрафа']\n",
    "\n",
    "seq = tokenizer.texts_to_sequences(txt)\n",
    "padded = pad_sequences(seq, maxlen=max_length)\n",
    "pred = model.predict(padded)\n",
    "\n",
    "print(get_code(np.argmax(pred)))"
   ]
  },
  {
   "cell_type": "code",
   "execution_count": 30,
   "id": "55fcb6e7",
   "metadata": {},
   "outputs": [
    {
     "data": {
      "image/png": "[encoded data removed]",
      "text/plain": [
       "<Figure size 1000x600 with 1 Axes>"
      ]
     },
     "metadata": {},
     "output_type": "display_data"
    },
    {
     "name": "stdout",
     "output_type": "stream",
     "text": [
      "95% Confidence Interval for ROC AUC: [0.996, 1.000]\n"
     ]
    }
   ],
   "source": [
    "n_iterations = 10\n",
    "n_size = len(validation_label_seq) \n",
    "\n",
    "\n",
    "bootstrapped_roc_aucs = []\n",
    "\n",
    "\n",
    "for i in range(n_iterations):\n",
    "    indices = resample(range(n_size), n_samples=n_size)\n",
    "    y_true_bs = validation_label_seq[indices]\n",
    "    y_prob_bs = pred_prob[indices]\n",
    "\n",
    "    unique_classes = np.unique(y_true_bs)\n",
    "\n",
    "    if len(unique_classes) == 2: \n",
    "        roc_auc_bs = roc_auc_score(y_true_bs, y_prob_bs[:, 1])  \n",
    "    else:  \n",
    "        if len(unique_classes) != y_prob_bs.shape[1]:\n",
    "            raise ValueError(\"Number of classes in y_true not equal to the number of columns in 'y_prob'\")\n",
    "        roc_auc_bs = roc_auc_score(y_true_bs, y_prob_bs, multi_class='ovr')\n",
    "    \n",
    "    bootstrapped_roc_aucs.append(roc_auc_bs)\n",
    "\n",
    "\n",
    "bootstrapped_roc_aucs = np.array(bootstrapped_roc_aucs)\n",
    "\n",
    "\n",
    "lower_bound = np.percentile(bootstrapped_roc_aucs, 2.5)\n",
    "upper_bound = np.percentile(bootstrapped_roc_aucs, 97.5)\n",
    "\n",
    "\n",
    "plt.figure(figsize=(10, 6))\n",
    "plt.boxplot(bootstrapped_roc_aucs)\n",
    "plt.axvline(lower_bound, color='red', linestyle='dashed', linewidth=2, label=f'2.5%: {lower_bound:.3f}')\n",
    "plt.axvline(upper_bound, color='green', linestyle='dashed', linewidth=2, label=f'97.5%: {upper_bound:.3f}')\n",
    "plt.axvline(np.mean(bootstrapped_roc_aucs), color='orange', linestyle='dashed', linewidth=2, label=f'Mean: {np.mean(bootstrapped_roc_aucs):.3f}')\n",
    "\n",
    "plt.title('Bootstrapped Distribution of ROC AUC')\n",
    "plt.xlabel('ROC AUC')\n",
    "plt.ylabel('Frequency')\n",
    "plt.legend()\n",
    "plt.grid()\n",
    "plt.show()\n",
    "\n",
    "print(f'95% Confidence Interval for ROC AUC: [{lower_bound:.3f}, {upper_bound:.3f}]')\n"
   ]
  },
  {
   "cell_type": "code",
   "execution_count": null,
   "id": "99c27db0",
   "metadata": {},
   "outputs": [],
   "source": []
  },
  {
   "cell_type": "code",
   "execution_count": null,
   "id": "6db52328",
   "metadata": {},
   "outputs": [],
   "source": []
  }
 ],
 "metadata": {
  "kernelspec": {
   "display_name": "Python 3 (ipykernel)",
   "language": "python",
   "name": "python3"
  },
  "language_info": {
   "codemirror_mode": {
    "name": "ipython",
    "version": 3
   },
   "file_extension": ".py",
   "mimetype": "text/x-python",
   "name": "python",
   "nbconvert_exporter": "python",
   "pygments_lexer": "ipython3",
   "version": "3.10.9"
  }
 },
 "nbformat": 4,
 "nbformat_minor": 5
}
