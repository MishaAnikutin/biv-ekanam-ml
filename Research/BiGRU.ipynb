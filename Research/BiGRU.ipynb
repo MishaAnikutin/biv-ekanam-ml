{
 "cells": [
  {
   "cell_type": "code",
   "execution_count": 1,
   "id": "894ae9bb",
   "metadata": {},
   "outputs": [
    {
     "name": "stderr",
     "output_type": "stream",
     "text": [
      "[nltk_data] Downloading package stopwords to\n",
      "[nltk_data]     C:\\Users\\a.n.piskunov\\AppData\\Roaming\\nltk_data...\n",
      "[nltk_data]   Package stopwords is already up-to-date!\n"
     ]
    }
   ],
   "source": [
    "import csv\n",
    "import tensorflow as tf\n",
    "import pandas as pd\n",
    "import numpy as np\n",
    "import matplotlib.pyplot as plt\n",
    "import seaborn as sns\n",
    "import re\n",
    "from tensorflow.keras.preprocessing.text import Tokenizer\n",
    "from tensorflow.keras.preprocessing.sequence import pad_sequences\n",
    "from tensorflow.keras.models import Sequential\n",
    "from tensorflow.keras.layers import Dense, Flatten, LSTM, Dropout, Activation, Embedding,SimpleRNN,GRU\n",
    "import nltk\n",
    "nltk.download('stopwords')\n",
    "from nltk.corpus import stopwords\n",
    "from nltk import word_tokenize\n",
    "STOPWORDS = set(stopwords.words('russian'))\n",
    "from string import punctuation\n",
    "punct = list(punctuation)\n",
    "from tqdm import tqdm\n",
    "from keras.callbacks import ReduceLROnPlateau,EarlyStopping\n",
    "from sklearn.metrics import classification_report\n",
    "from sklearn.metrics import confusion_matrix"
   ]
  },
  {
   "cell_type": "code",
   "execution_count": 2,
   "id": "31b0d28e",
   "metadata": {},
   "outputs": [],
   "source": [
    "data_test = pd.read_csv(r'C:\\Users\\a.n.piskunov\\Downloads\\test.csv')\n",
    "data_train = pd.read_csv(r'C:\\Users\\a.n.piskunov\\Downloads\\train.csv')\n"
   ]
  },
  {
   "cell_type": "code",
   "execution_count": 3,
   "id": "979b9de2",
   "metadata": {},
   "outputs": [],
   "source": [
    "articles_test=data_test['text'].to_list()\n",
    "articles_train=data_train['text'].to_list()\n",
    "labels_train=data_train['class'].to_list()\n",
    "labels_test=data_test['class'].to_list()"
   ]
  },
  {
   "cell_type": "code",
   "execution_count": 4,
   "id": "bb4f1483",
   "metadata": {},
   "outputs": [],
   "source": [
    "only_text_regex = r'[^а-яА-ЯёЁ]+'\n",
    "stop_words = set(stopwords.words('russian'))\n",
    "\n",
    "\n",
    "def clean_text(text):\n",
    "    text = re.sub(only_text_regex, ' ', text)\n",
    "    text = ' '.join([word for word in text.split() if word.lower() not in stop_words])\n",
    "    \n",
    "    return text"
   ]
  },
  {
   "cell_type": "code",
   "execution_count": 5,
   "id": "7c19e179",
   "metadata": {},
   "outputs": [
    {
     "name": "stderr",
     "output_type": "stream",
     "text": [
      "100%|████████████████████████████████████████████████████████████████████████████| 100/100 [00:00<00:00, 100534.61it/s]\n",
      "100%|████████████████████████████████████████████████████████████████████████████| 400/400 [00:00<00:00, 199919.16it/s]\n"
     ]
    }
   ],
   "source": [
    "for i in tqdm(range(len(articles_test))):\n",
    "    articles_test[i]=clean_text(articles_test[i])\n",
    "    \n",
    "for i in tqdm(range(len(articles_train))):\n",
    "    articles_train[i]=clean_text(articles_train[i])"
   ]
  },
  {
   "cell_type": "code",
   "execution_count": 6,
   "id": "9ae95595",
   "metadata": {},
   "outputs": [],
   "source": [
    "vocab_size =5000\n",
    "embedding_dim =64\n",
    "max_length =200\n",
    "oov_tok = '<OOV>' "
   ]
  },
  {
   "cell_type": "code",
   "execution_count": 7,
   "id": "b44476a0",
   "metadata": {},
   "outputs": [],
   "source": [
    "train_articles = articles_train\n",
    "train_labels = labels_train\n",
    "validation_articles = articles_test\n",
    "validation_labels = labels_test"
   ]
  },
  {
   "cell_type": "code",
   "execution_count": 8,
   "id": "a63fdff2",
   "metadata": {},
   "outputs": [
    {
     "name": "stdout",
     "output_type": "stream",
     "text": [
      "train_articles 400\n",
      "train_labels 400\n",
      "validation_articles 100\n",
      "validation_labels 100\n"
     ]
    }
   ],
   "source": [
    "print('train_articles' ,len(train_articles))\n",
    "print('train_labels', len(train_labels))\n",
    "print('validation_articles', len(validation_articles))\n",
    "print('validation_labels', len(validation_labels))"
   ]
  },
  {
   "cell_type": "code",
   "execution_count": 9,
   "id": "d4ed0aab",
   "metadata": {},
   "outputs": [],
   "source": [
    "tokenizer = Tokenizer(num_words = vocab_size)\n",
    "tokenizer.fit_on_texts(train_articles)\n",
    "word_index = tokenizer.word_index"
   ]
  },
  {
   "cell_type": "code",
   "execution_count": 10,
   "id": "53da870c",
   "metadata": {},
   "outputs": [
    {
     "data": {
      "text/plain": [
       "400"
      ]
     },
     "execution_count": 10,
     "metadata": {},
     "output_type": "execute_result"
    }
   ],
   "source": [
    "train_sequences = tokenizer.texts_to_sequences(train_articles)\n",
    "len(train_sequences)"
   ]
  },
  {
   "cell_type": "code",
   "execution_count": 11,
   "id": "42ded3a5",
   "metadata": {},
   "outputs": [],
   "source": [
    "train_padded = pad_sequences(train_sequences, maxlen=max_length)"
   ]
  },
  {
   "cell_type": "code",
   "execution_count": 12,
   "id": "aa9e2211",
   "metadata": {},
   "outputs": [
    {
     "data": {
      "text/plain": [
       "(400, 200)"
      ]
     },
     "execution_count": 12,
     "metadata": {},
     "output_type": "execute_result"
    }
   ],
   "source": [
    "len(train_padded),len(train_padded[0])"
   ]
  },
  {
   "cell_type": "code",
   "execution_count": 13,
   "id": "51a729e0",
   "metadata": {},
   "outputs": [],
   "source": [
    "validation_sequences = tokenizer.texts_to_sequences(validation_articles)\n",
    "validation_padded = pad_sequences(validation_sequences, maxlen=max_length)"
   ]
  },
  {
   "cell_type": "code",
   "execution_count": 14,
   "id": "583b1c7a",
   "metadata": {},
   "outputs": [
    {
     "name": "stderr",
     "output_type": "stream",
     "text": [
      "9it [00:00, ?it/s]\n"
     ]
    },
    {
     "data": {
      "text/plain": [
       "{'NOT_CLASSIFIED': 0,\n",
       " 'NON_FOOD_GOODS': 1,\n",
       " 'FOOD_GOODS': 2,\n",
       " 'LOAN': 3,\n",
       " 'BANK_SERVICE': 4,\n",
       " 'REALE_STATE': 5,\n",
       " 'LEASING': 6,\n",
       " 'SERVICE': 7,\n",
       " 'TAX': 8}"
      ]
     },
     "execution_count": 14,
     "metadata": {},
     "output_type": "execute_result"
    }
   ],
   "source": [
    "dict_={}\n",
    "for i,x in tqdm(enumerate(set(labels_train))):\n",
    "    dict_[x]=i\n",
    "dict_"
   ]
  },
  {
   "cell_type": "code",
   "execution_count": 15,
   "id": "54b4e5cf",
   "metadata": {},
   "outputs": [
    {
     "name": "stderr",
     "output_type": "stream",
     "text": [
      "100%|████████████████████████████████████████████████████████████████████████████████████████| 400/400 [00:00<?, ?it/s]\n",
      "100%|█████████████████████████████████████████████████████████████████████████████| 100/100 [00:00<00:00, 50129.13it/s]\n"
     ]
    }
   ],
   "source": [
    "training_label_seq = np.array([dict_[train_labels[i]] for i in tqdm(range(len(train_labels)))])\n",
    "validation_label_seq = np.array([dict_[np.array(validation_labels)[i]] for i in tqdm(range(len(validation_labels)))])\n"
   ]
  },
  {
   "cell_type": "code",
   "execution_count": 16,
   "id": "cbffcf2c",
   "metadata": {},
   "outputs": [
    {
     "data": {
      "text/plain": [
       "('TAX', 8)"
      ]
     },
     "execution_count": 16,
     "metadata": {},
     "output_type": "execute_result"
    }
   ],
   "source": [
    "train_labels[0], training_label_seq[0]\n"
   ]
  },
  {
   "cell_type": "code",
   "execution_count": 17,
   "id": "b30dcb8f",
   "metadata": {},
   "outputs": [
    {
     "data": {
      "text/plain": [
       "1    77\n",
       "2    72\n",
       "7    70\n",
       "4    39\n",
       "8    38\n",
       "3    33\n",
       "6    31\n",
       "5    22\n",
       "0    18\n",
       "dtype: int64"
      ]
     },
     "execution_count": 17,
     "metadata": {},
     "output_type": "execute_result"
    }
   ],
   "source": [
    "pd.DataFrame(training_label_seq).value_counts()\n"
   ]
  },
  {
   "cell_type": "code",
   "execution_count": 18,
   "id": "218118a8",
   "metadata": {},
   "outputs": [
    {
     "data": {
      "text/plain": [
       "1    19\n",
       "2    18\n",
       "7    18\n",
       "4    10\n",
       "8    10\n",
       "3     8\n",
       "6     7\n",
       "0     5\n",
       "5     5\n",
       "dtype: int64"
      ]
     },
     "execution_count": 18,
     "metadata": {},
     "output_type": "execute_result"
    }
   ],
   "source": [
    "pd.DataFrame(validation_label_seq).value_counts()\n"
   ]
  },
  {
   "cell_type": "code",
   "execution_count": 19,
   "id": "8d109926",
   "metadata": {},
   "outputs": [
    {
     "data": {
      "text/plain": [
       "Text(0, 0.5, 'Count')"
      ]
     },
     "execution_count": 19,
     "metadata": {},
     "output_type": "execute_result"
    },
    {
     "data": {
      "image/png": "[encoded data removed]",
      "text/plain": [
       "<Figure size 2000x500 with 2 Axes>"
      ]
     },
     "metadata": {},
     "output_type": "display_data"
    }
   ],
   "source": [
    "plt.figure(figsize=(20,5))\n",
    "plt.subplot(1,2,1)\n",
    "plt.title(\"Distribution Of Train\",fontsize=20)\n",
    "sns.histplot(training_label_seq,color='red')\n",
    "plt.xlabel('Label',fontsize=20)\n",
    "plt.ylabel(\"Count\",fontsize=20)\n",
    "plt.subplot(1,2,2)\n",
    "plt.title(\"Distribution Of Test\",fontsize=20)\n",
    "sns.histplot(validation_label_seq,color='red')\n",
    "plt.xlabel('Label',fontsize=20)\n",
    "plt.ylabel(\"Count\",fontsize=20)"
   ]
  },
  {
   "cell_type": "code",
   "execution_count": 20,
   "id": "8bab5c0e",
   "metadata": {},
   "outputs": [
    {
     "data": {
      "text/html": [
       "<pre style=\"white-space:pre;overflow-x:auto;line-height:normal;font-family:Menlo,'DejaVu Sans Mono',consolas,'Courier New',monospace\"><span style=\"font-weight: bold\">Model: \"sequential\"</span>\n",
       "</pre>\n"
      ],
      "text/plain": [
       "\u001b[1mModel: \"sequential\"\u001b[0m\n"
      ]
     },
     "metadata": {},
     "output_type": "display_data"
    },
    {
     "data": {
      "text/html": [
       "<pre style=\"white-space:pre;overflow-x:auto;line-height:normal;font-family:Menlo,'DejaVu Sans Mono',consolas,'Courier New',monospace\">┏━━━━━━━━━━━━━━━━━━━━━━━━━━━━━━━━━━━━━━┳━━━━━━━━━━━━━━━━━━━━━━━━━━━━━┳━━━━━━━━━━━━━━━━━┓\n",
       "┃<span style=\"font-weight: bold\"> Layer (type)                         </span>┃<span style=\"font-weight: bold\"> Output Shape                </span>┃<span style=\"font-weight: bold\">         Param # </span>┃\n",
       "┡━━━━━━━━━━━━━━━━━━━━━━━━━━━━━━━━━━━━━━╇━━━━━━━━━━━━━━━━━━━━━━━━━━━━━╇━━━━━━━━━━━━━━━━━┩\n",
       "│ embedding (<span style=\"color: #0087ff; text-decoration-color: #0087ff\">Embedding</span>)                │ ?                           │     <span style=\"color: #00af00; text-decoration-color: #00af00\">0</span> (unbuilt) │\n",
       "├──────────────────────────────────────┼─────────────────────────────┼─────────────────┤\n",
       "│ dropout (<span style=\"color: #0087ff; text-decoration-color: #0087ff\">Dropout</span>)                    │ ?                           │               <span style=\"color: #00af00; text-decoration-color: #00af00\">0</span> │\n",
       "├──────────────────────────────────────┼─────────────────────────────┼─────────────────┤\n",
       "│ gru (<span style=\"color: #0087ff; text-decoration-color: #0087ff\">GRU</span>)                            │ ?                           │     <span style=\"color: #00af00; text-decoration-color: #00af00\">0</span> (unbuilt) │\n",
       "├──────────────────────────────────────┼─────────────────────────────┼─────────────────┤\n",
       "│ dropout_1 (<span style=\"color: #0087ff; text-decoration-color: #0087ff\">Dropout</span>)                  │ ?                           │               <span style=\"color: #00af00; text-decoration-color: #00af00\">0</span> │\n",
       "├──────────────────────────────────────┼─────────────────────────────┼─────────────────┤\n",
       "│ dense (<span style=\"color: #0087ff; text-decoration-color: #0087ff\">Dense</span>)                        │ ?                           │     <span style=\"color: #00af00; text-decoration-color: #00af00\">0</span> (unbuilt) │\n",
       "└──────────────────────────────────────┴─────────────────────────────┴─────────────────┘\n",
       "</pre>\n"
      ],
      "text/plain": [
       "┏━━━━━━━━━━━━━━━━━━━━━━━━━━━━━━━━━━━━━━┳━━━━━━━━━━━━━━━━━━━━━━━━━━━━━┳━━━━━━━━━━━━━━━━━┓\n",
       "┃\u001b[1m \u001b[0m\u001b[1mLayer (type)                        \u001b[0m\u001b[1m \u001b[0m┃\u001b[1m \u001b[0m\u001b[1mOutput Shape               \u001b[0m\u001b[1m \u001b[0m┃\u001b[1m \u001b[0m\u001b[1m        Param #\u001b[0m\u001b[1m \u001b[0m┃\n",
       "┡━━━━━━━━━━━━━━━━━━━━━━━━━━━━━━━━━━━━━━╇━━━━━━━━━━━━━━━━━━━━━━━━━━━━━╇━━━━━━━━━━━━━━━━━┩\n",
       "│ embedding (\u001b[38;5;33mEmbedding\u001b[0m)                │ ?                           │     \u001b[38;5;34m0\u001b[0m (unbuilt) │\n",
       "├──────────────────────────────────────┼─────────────────────────────┼─────────────────┤\n",
       "│ dropout (\u001b[38;5;33mDropout\u001b[0m)                    │ ?                           │               \u001b[38;5;34m0\u001b[0m │\n",
       "├──────────────────────────────────────┼─────────────────────────────┼─────────────────┤\n",
       "│ gru (\u001b[38;5;33mGRU\u001b[0m)                            │ ?                           │     \u001b[38;5;34m0\u001b[0m (unbuilt) │\n",
       "├──────────────────────────────────────┼─────────────────────────────┼─────────────────┤\n",
       "│ dropout_1 (\u001b[38;5;33mDropout\u001b[0m)                  │ ?                           │               \u001b[38;5;34m0\u001b[0m │\n",
       "├──────────────────────────────────────┼─────────────────────────────┼─────────────────┤\n",
       "│ dense (\u001b[38;5;33mDense\u001b[0m)                        │ ?                           │     \u001b[38;5;34m0\u001b[0m (unbuilt) │\n",
       "└──────────────────────────────────────┴─────────────────────────────┴─────────────────┘\n"
      ]
     },
     "metadata": {},
     "output_type": "display_data"
    },
    {
     "data": {
      "text/html": [
       "<pre style=\"white-space:pre;overflow-x:auto;line-height:normal;font-family:Menlo,'DejaVu Sans Mono',consolas,'Courier New',monospace\"><span style=\"font-weight: bold\"> Total params: </span><span style=\"color: #00af00; text-decoration-color: #00af00\">0</span> (0.00 B)\n",
       "</pre>\n"
      ],
      "text/plain": [
       "\u001b[1m Total params: \u001b[0m\u001b[38;5;34m0\u001b[0m (0.00 B)\n"
      ]
     },
     "metadata": {},
     "output_type": "display_data"
    },
    {
     "data": {
      "text/html": [
       "<pre style=\"white-space:pre;overflow-x:auto;line-height:normal;font-family:Menlo,'DejaVu Sans Mono',consolas,'Courier New',monospace\"><span style=\"font-weight: bold\"> Trainable params: </span><span style=\"color: #00af00; text-decoration-color: #00af00\">0</span> (0.00 B)\n",
       "</pre>\n"
      ],
      "text/plain": [
       "\u001b[1m Trainable params: \u001b[0m\u001b[38;5;34m0\u001b[0m (0.00 B)\n"
      ]
     },
     "metadata": {},
     "output_type": "display_data"
    },
    {
     "data": {
      "text/html": [
       "<pre style=\"white-space:pre;overflow-x:auto;line-height:normal;font-family:Menlo,'DejaVu Sans Mono',consolas,'Courier New',monospace\"><span style=\"font-weight: bold\"> Non-trainable params: </span><span style=\"color: #00af00; text-decoration-color: #00af00\">0</span> (0.00 B)\n",
       "</pre>\n"
      ],
      "text/plain": [
       "\u001b[1m Non-trainable params: \u001b[0m\u001b[38;5;34m0\u001b[0m (0.00 B)\n"
      ]
     },
     "metadata": {},
     "output_type": "display_data"
    }
   ],
   "source": [
    "model = Sequential()\n",
    "model.add(Embedding(vocab_size,embedding_dim))\n",
    "model.add(Dropout(0.5))\n",
    "model.add(GRU(units =32))\n",
    "model.add(Dropout(0.5))\n",
    "model.add(Dense(5,activation='softmax'))\n",
    "model.summary()"
   ]
  },
  {
   "cell_type": "code",
   "execution_count": 21,
   "id": "9b6eec46",
   "metadata": {},
   "outputs": [
    {
     "name": "stdout",
     "output_type": "stream",
     "text": [
      "Train padded shape: (400, 200)\n",
      "Training labels shape: (400,)\n",
      "Unique labels in training data: [0 1 2 3 4 5 6 7 8]\n",
      "Epoch 1/50\n"
     ]
    },
    {
     "name": "stderr",
     "output_type": "stream",
     "text": [
      "C:\\ProgramData\\Anaconda\\lib\\site-packages\\keras\\src\\layers\\core\\embedding.py:90: UserWarning: Argument `input_length` is deprecated. Just remove it.\n",
      "  warnings.warn(\n"
     ]
    },
    {
     "name": "stdout",
     "output_type": "stream",
     "text": [
      "\u001b[1m13/13\u001b[0m \u001b[32m━━━━━━━━━━━━━━━━━━━━\u001b[0m\u001b[37m\u001b[0m \u001b[1m4s\u001b[0m 136ms/step - accuracy: 0.1982 - loss: 2.1526 - val_accuracy: 0.1900 - val_loss: 1.9993 - learning_rate: 0.0010\n",
      "Epoch 2/50\n",
      "\u001b[1m13/13\u001b[0m \u001b[32m━━━━━━━━━━━━━━━━━━━━\u001b[0m\u001b[37m\u001b[0m \u001b[1m2s\u001b[0m 115ms/step - accuracy: 0.2920 - loss: 1.9344 - val_accuracy: 0.4000 - val_loss: 1.7161 - learning_rate: 0.0010\n",
      "Epoch 3/50\n",
      "\u001b[1m13/13\u001b[0m \u001b[32m━━━━━━━━━━━━━━━━━━━━\u001b[0m\u001b[37m\u001b[0m \u001b[1m1s\u001b[0m 111ms/step - accuracy: 0.4378 - loss: 1.5922 - val_accuracy: 0.5700 - val_loss: 1.2567 - learning_rate: 0.0010\n",
      "Epoch 4/50\n",
      "\u001b[1m13/13\u001b[0m \u001b[32m━━━━━━━━━━━━━━━━━━━━\u001b[0m\u001b[37m\u001b[0m \u001b[1m1s\u001b[0m 109ms/step - accuracy: 0.6004 - loss: 1.1570 - val_accuracy: 0.7100 - val_loss: 0.9104 - learning_rate: 0.0010\n",
      "Epoch 5/50\n",
      "\u001b[1m13/13\u001b[0m \u001b[32m━━━━━━━━━━━━━━━━━━━━\u001b[0m\u001b[37m\u001b[0m \u001b[1m1s\u001b[0m 109ms/step - accuracy: 0.7362 - loss: 0.8048 - val_accuracy: 0.7400 - val_loss: 0.6776 - learning_rate: 0.0010\n",
      "Epoch 6/50\n",
      "\u001b[1m13/13\u001b[0m \u001b[32m━━━━━━━━━━━━━━━━━━━━\u001b[0m\u001b[37m\u001b[0m \u001b[1m1s\u001b[0m 109ms/step - accuracy: 0.7996 - loss: 0.5938 - val_accuracy: 0.8000 - val_loss: 0.4581 - learning_rate: 0.0010\n",
      "Epoch 7/50\n",
      "\u001b[1m13/13\u001b[0m \u001b[32m━━━━━━━━━━━━━━━━━━━━\u001b[0m\u001b[37m\u001b[0m \u001b[1m1s\u001b[0m 109ms/step - accuracy: 0.8930 - loss: 0.3667 - val_accuracy: 0.8200 - val_loss: 0.4388 - learning_rate: 0.0010\n",
      "Epoch 8/50\n",
      "\u001b[1m13/13\u001b[0m \u001b[32m━━━━━━━━━━━━━━━━━━━━\u001b[0m\u001b[37m\u001b[0m \u001b[1m1s\u001b[0m 112ms/step - accuracy: 0.9584 - loss: 0.2483 - val_accuracy: 0.8800 - val_loss: 0.2841 - learning_rate: 0.0010\n",
      "Epoch 9/50\n",
      "\u001b[1m13/13\u001b[0m \u001b[32m━━━━━━━━━━━━━━━━━━━━\u001b[0m\u001b[37m\u001b[0m \u001b[1m1s\u001b[0m 109ms/step - accuracy: 0.9679 - loss: 0.1372 - val_accuracy: 0.9400 - val_loss: 0.1613 - learning_rate: 0.0010\n",
      "Epoch 10/50\n",
      "\u001b[1m13/13\u001b[0m \u001b[32m━━━━━━━━━━━━━━━━━━━━\u001b[0m\u001b[37m\u001b[0m \u001b[1m1s\u001b[0m 110ms/step - accuracy: 0.9835 - loss: 0.1027 - val_accuracy: 0.9800 - val_loss: 0.1142 - learning_rate: 0.0010\n",
      "Epoch 11/50\n",
      "\u001b[1m13/13\u001b[0m \u001b[32m━━━━━━━━━━━━━━━━━━━━\u001b[0m\u001b[37m\u001b[0m \u001b[1m1s\u001b[0m 110ms/step - accuracy: 0.9904 - loss: 0.0590 - val_accuracy: 0.9300 - val_loss: 0.1369 - learning_rate: 0.0010\n",
      "Epoch 12/50\n",
      "\u001b[1m13/13\u001b[0m \u001b[32m━━━━━━━━━━━━━━━━━━━━\u001b[0m\u001b[37m\u001b[0m \u001b[1m2s\u001b[0m 116ms/step - accuracy: 0.9840 - loss: 0.0437 - val_accuracy: 0.9800 - val_loss: 0.0813 - learning_rate: 0.0010\n",
      "Epoch 13/50\n",
      "\u001b[1m13/13\u001b[0m \u001b[32m━━━━━━━━━━━━━━━━━━━━\u001b[0m\u001b[37m\u001b[0m \u001b[1m2s\u001b[0m 119ms/step - accuracy: 1.0000 - loss: 0.0253 - val_accuracy: 0.9800 - val_loss: 0.0757 - learning_rate: 0.0010\n",
      "Epoch 14/50\n",
      "\u001b[1m13/13\u001b[0m \u001b[32m━━━━━━━━━━━━━━━━━━━━\u001b[0m\u001b[37m\u001b[0m \u001b[1m2s\u001b[0m 117ms/step - accuracy: 1.0000 - loss: 0.0193 - val_accuracy: 0.9600 - val_loss: 0.0853 - learning_rate: 0.0010\n",
      "Epoch 15/50\n",
      "\u001b[1m13/13\u001b[0m \u001b[32m━━━━━━━━━━━━━━━━━━━━\u001b[0m\u001b[37m\u001b[0m \u001b[1m2s\u001b[0m 123ms/step - accuracy: 1.0000 - loss: 0.0133 - val_accuracy: 0.9500 - val_loss: 0.0867 - learning_rate: 0.0010\n",
      "Epoch 16/50\n",
      "\u001b[1m13/13\u001b[0m \u001b[32m━━━━━━━━━━━━━━━━━━━━\u001b[0m\u001b[37m\u001b[0m \u001b[1m2s\u001b[0m 128ms/step - accuracy: 1.0000 - loss: 0.0135 - val_accuracy: 0.9600 - val_loss: 0.0860 - learning_rate: 0.0010\n",
      "Epoch 17/50\n",
      "\u001b[1m13/13\u001b[0m \u001b[32m━━━━━━━━━━━━━━━━━━━━\u001b[0m\u001b[37m\u001b[0m \u001b[1m2s\u001b[0m 119ms/step - accuracy: 1.0000 - loss: 0.0109 - val_accuracy: 0.9600 - val_loss: 0.0863 - learning_rate: 0.0010\n",
      "Epoch 18/50\n",
      "\u001b[1m13/13\u001b[0m \u001b[32m━━━━━━━━━━━━━━━━━━━━\u001b[0m\u001b[37m\u001b[0m \u001b[1m2s\u001b[0m 118ms/step - accuracy: 1.0000 - loss: 0.0088 - val_accuracy: 0.9600 - val_loss: 0.0891 - learning_rate: 0.0010\n",
      "Epoch 19/50\n",
      "\u001b[1m13/13\u001b[0m \u001b[32m━━━━━━━━━━━━━━━━━━━━\u001b[0m\u001b[37m\u001b[0m \u001b[1m2s\u001b[0m 118ms/step - accuracy: 1.0000 - loss: 0.0074 - val_accuracy: 0.9600 - val_loss: 0.0888 - learning_rate: 2.0000e-04\n",
      "Epoch 20/50\n",
      "\u001b[1m13/13\u001b[0m \u001b[32m━━━━━━━━━━━━━━━━━━━━\u001b[0m\u001b[37m\u001b[0m \u001b[1m2s\u001b[0m 127ms/step - accuracy: 1.0000 - loss: 0.0078 - val_accuracy: 0.9600 - val_loss: 0.0876 - learning_rate: 2.0000e-04\n",
      "Epoch 21/50\n",
      "\u001b[1m13/13\u001b[0m \u001b[32m━━━━━━━━━━━━━━━━━━━━\u001b[0m\u001b[37m\u001b[0m \u001b[1m2s\u001b[0m 117ms/step - accuracy: 1.0000 - loss: 0.0081 - val_accuracy: 0.9600 - val_loss: 0.0869 - learning_rate: 2.0000e-04\n",
      "Epoch 22/50\n",
      "\u001b[1m13/13\u001b[0m \u001b[32m━━━━━━━━━━━━━━━━━━━━\u001b[0m\u001b[37m\u001b[0m \u001b[1m2s\u001b[0m 118ms/step - accuracy: 1.0000 - loss: 0.0078 - val_accuracy: 0.9600 - val_loss: 0.0881 - learning_rate: 2.0000e-04\n",
      "Epoch 23/50\n",
      "\u001b[1m13/13\u001b[0m \u001b[32m━━━━━━━━━━━━━━━━━━━━\u001b[0m\u001b[37m\u001b[0m \u001b[1m2s\u001b[0m 123ms/step - accuracy: 1.0000 - loss: 0.0086 - val_accuracy: 0.9600 - val_loss: 0.0902 - learning_rate: 2.0000e-04\n"
     ]
    }
   ],
   "source": [
    "from tensorflow.keras.models import Sequential\n",
    "from tensorflow.keras.layers import Embedding, GRU, Dense, Dropout, Bidirectional\n",
    "from tensorflow.keras.callbacks import ReduceLROnPlateau, EarlyStopping\n",
    "import numpy as np\n",
    "\n",
    "seed_value = 42\n",
    "np.random.seed(seed_value)\n",
    "tf.random.set_seed(seed_value)\n",
    "\n",
    "print(\"Train padded shape:\", train_padded.shape) \n",
    "print(\"Training labels shape:\", training_label_seq.shape)  \n",
    "print(\"Unique labels in training data:\", np.unique(training_label_seq))  \n",
    "\n",
    "model = Sequential([\n",
    "    Embedding(input_dim=20000, output_dim=100, input_length=200),\n",
    "    Bidirectional(GRU(128)),  \n",
    "    Dropout(0.3),\n",
    "    Dense(9, activation='softmax')  \n",
    "   ])\n",
    "\n",
    "model.compile(loss='sparse_categorical_crossentropy', optimizer='adam', metrics=['accuracy'])\n",
    "\n",
    "\n",
    "reduce_lr = ReduceLROnPlateau(monitor='val_loss', factor=0.2, patience=5, min_lr=1e-6)\n",
    "early_stop = EarlyStopping(monitor='val_loss', patience=10, restore_best_weights=True)\n",
    "\n",
    "\n",
    "history = model.fit(train_padded, training_label_seq, epochs=50,\n",
    "                       validation_data=(validation_padded, validation_label_seq),\n",
    "                       callbacks=[reduce_lr, early_stop])\n",
    "   "
   ]
  },
  {
   "cell_type": "code",
   "execution_count": 22,
   "id": "10630a6c",
   "metadata": {},
   "outputs": [
    {
     "data": {
      "text/html": [
       "<div>\n",
       "<style scoped>\n",
       "    .dataframe tbody tr th:only-of-type {\n",
       "        vertical-align: middle;\n",
       "    }\n",
       "\n",
       "    .dataframe tbody tr th {\n",
       "        vertical-align: top;\n",
       "    }\n",
       "\n",
       "    .dataframe thead th {\n",
       "        text-align: right;\n",
       "    }\n",
       "</style>\n",
       "<table border=\"1\" class=\"dataframe\">\n",
       "  <thead>\n",
       "    <tr style=\"text-align: right;\">\n",
       "      <th></th>\n",
       "      <th>accuracy</th>\n",
       "      <th>loss</th>\n",
       "      <th>val_accuracy</th>\n",
       "      <th>val_loss</th>\n",
       "      <th>learning_rate</th>\n",
       "    </tr>\n",
       "  </thead>\n",
       "  <tbody>\n",
       "    <tr>\n",
       "      <th>0</th>\n",
       "      <td>0.2000</td>\n",
       "      <td>2.126476</td>\n",
       "      <td>0.19</td>\n",
       "      <td>1.999279</td>\n",
       "      <td>0.0010</td>\n",
       "    </tr>\n",
       "    <tr>\n",
       "      <th>1</th>\n",
       "      <td>0.3275</td>\n",
       "      <td>1.905617</td>\n",
       "      <td>0.40</td>\n",
       "      <td>1.716071</td>\n",
       "      <td>0.0010</td>\n",
       "    </tr>\n",
       "    <tr>\n",
       "      <th>2</th>\n",
       "      <td>0.4675</td>\n",
       "      <td>1.512628</td>\n",
       "      <td>0.57</td>\n",
       "      <td>1.256705</td>\n",
       "      <td>0.0010</td>\n",
       "    </tr>\n",
       "    <tr>\n",
       "      <th>3</th>\n",
       "      <td>0.6425</td>\n",
       "      <td>1.093539</td>\n",
       "      <td>0.71</td>\n",
       "      <td>0.910437</td>\n",
       "      <td>0.0010</td>\n",
       "    </tr>\n",
       "    <tr>\n",
       "      <th>4</th>\n",
       "      <td>0.7550</td>\n",
       "      <td>0.740164</td>\n",
       "      <td>0.74</td>\n",
       "      <td>0.677610</td>\n",
       "      <td>0.0010</td>\n",
       "    </tr>\n",
       "    <tr>\n",
       "      <th>5</th>\n",
       "      <td>0.8250</td>\n",
       "      <td>0.528737</td>\n",
       "      <td>0.80</td>\n",
       "      <td>0.458053</td>\n",
       "      <td>0.0010</td>\n",
       "    </tr>\n",
       "    <tr>\n",
       "      <th>6</th>\n",
       "      <td>0.9125</td>\n",
       "      <td>0.332614</td>\n",
       "      <td>0.82</td>\n",
       "      <td>0.438846</td>\n",
       "      <td>0.0010</td>\n",
       "    </tr>\n",
       "    <tr>\n",
       "      <th>7</th>\n",
       "      <td>0.9725</td>\n",
       "      <td>0.193524</td>\n",
       "      <td>0.88</td>\n",
       "      <td>0.284082</td>\n",
       "      <td>0.0010</td>\n",
       "    </tr>\n",
       "    <tr>\n",
       "      <th>8</th>\n",
       "      <td>0.9725</td>\n",
       "      <td>0.131612</td>\n",
       "      <td>0.94</td>\n",
       "      <td>0.161325</td>\n",
       "      <td>0.0010</td>\n",
       "    </tr>\n",
       "    <tr>\n",
       "      <th>9</th>\n",
       "      <td>0.9875</td>\n",
       "      <td>0.091812</td>\n",
       "      <td>0.98</td>\n",
       "      <td>0.114229</td>\n",
       "      <td>0.0010</td>\n",
       "    </tr>\n",
       "    <tr>\n",
       "      <th>10</th>\n",
       "      <td>0.9925</td>\n",
       "      <td>0.051731</td>\n",
       "      <td>0.93</td>\n",
       "      <td>0.136891</td>\n",
       "      <td>0.0010</td>\n",
       "    </tr>\n",
       "    <tr>\n",
       "      <th>11</th>\n",
       "      <td>0.9900</td>\n",
       "      <td>0.037339</td>\n",
       "      <td>0.98</td>\n",
       "      <td>0.081266</td>\n",
       "      <td>0.0010</td>\n",
       "    </tr>\n",
       "    <tr>\n",
       "      <th>12</th>\n",
       "      <td>1.0000</td>\n",
       "      <td>0.023684</td>\n",
       "      <td>0.98</td>\n",
       "      <td>0.075704</td>\n",
       "      <td>0.0010</td>\n",
       "    </tr>\n",
       "    <tr>\n",
       "      <th>13</th>\n",
       "      <td>1.0000</td>\n",
       "      <td>0.017507</td>\n",
       "      <td>0.96</td>\n",
       "      <td>0.085251</td>\n",
       "      <td>0.0010</td>\n",
       "    </tr>\n",
       "    <tr>\n",
       "      <th>14</th>\n",
       "      <td>1.0000</td>\n",
       "      <td>0.013634</td>\n",
       "      <td>0.95</td>\n",
       "      <td>0.086745</td>\n",
       "      <td>0.0010</td>\n",
       "    </tr>\n",
       "    <tr>\n",
       "      <th>15</th>\n",
       "      <td>1.0000</td>\n",
       "      <td>0.011782</td>\n",
       "      <td>0.96</td>\n",
       "      <td>0.085995</td>\n",
       "      <td>0.0010</td>\n",
       "    </tr>\n",
       "    <tr>\n",
       "      <th>16</th>\n",
       "      <td>1.0000</td>\n",
       "      <td>0.010541</td>\n",
       "      <td>0.96</td>\n",
       "      <td>0.086333</td>\n",
       "      <td>0.0010</td>\n",
       "    </tr>\n",
       "    <tr>\n",
       "      <th>17</th>\n",
       "      <td>1.0000</td>\n",
       "      <td>0.007675</td>\n",
       "      <td>0.96</td>\n",
       "      <td>0.089064</td>\n",
       "      <td>0.0010</td>\n",
       "    </tr>\n",
       "    <tr>\n",
       "      <th>18</th>\n",
       "      <td>1.0000</td>\n",
       "      <td>0.007465</td>\n",
       "      <td>0.96</td>\n",
       "      <td>0.088804</td>\n",
       "      <td>0.0002</td>\n",
       "    </tr>\n",
       "    <tr>\n",
       "      <th>19</th>\n",
       "      <td>1.0000</td>\n",
       "      <td>0.007396</td>\n",
       "      <td>0.96</td>\n",
       "      <td>0.087628</td>\n",
       "      <td>0.0002</td>\n",
       "    </tr>\n",
       "    <tr>\n",
       "      <th>20</th>\n",
       "      <td>1.0000</td>\n",
       "      <td>0.007861</td>\n",
       "      <td>0.96</td>\n",
       "      <td>0.086890</td>\n",
       "      <td>0.0002</td>\n",
       "    </tr>\n",
       "    <tr>\n",
       "      <th>21</th>\n",
       "      <td>1.0000</td>\n",
       "      <td>0.006740</td>\n",
       "      <td>0.96</td>\n",
       "      <td>0.088106</td>\n",
       "      <td>0.0002</td>\n",
       "    </tr>\n",
       "    <tr>\n",
       "      <th>22</th>\n",
       "      <td>1.0000</td>\n",
       "      <td>0.007501</td>\n",
       "      <td>0.96</td>\n",
       "      <td>0.090242</td>\n",
       "      <td>0.0002</td>\n",
       "    </tr>\n",
       "  </tbody>\n",
       "</table>\n",
       "</div>"
      ],
      "text/plain": [
       "    accuracy      loss  val_accuracy  val_loss  learning_rate\n",
       "0     0.2000  2.126476          0.19  1.999279         0.0010\n",
       "1     0.3275  1.905617          0.40  1.716071         0.0010\n",
       "2     0.4675  1.512628          0.57  1.256705         0.0010\n",
       "3     0.6425  1.093539          0.71  0.910437         0.0010\n",
       "4     0.7550  0.740164          0.74  0.677610         0.0010\n",
       "5     0.8250  0.528737          0.80  0.458053         0.0010\n",
       "6     0.9125  0.332614          0.82  0.438846         0.0010\n",
       "7     0.9725  0.193524          0.88  0.284082         0.0010\n",
       "8     0.9725  0.131612          0.94  0.161325         0.0010\n",
       "9     0.9875  0.091812          0.98  0.114229         0.0010\n",
       "10    0.9925  0.051731          0.93  0.136891         0.0010\n",
       "11    0.9900  0.037339          0.98  0.081266         0.0010\n",
       "12    1.0000  0.023684          0.98  0.075704         0.0010\n",
       "13    1.0000  0.017507          0.96  0.085251         0.0010\n",
       "14    1.0000  0.013634          0.95  0.086745         0.0010\n",
       "15    1.0000  0.011782          0.96  0.085995         0.0010\n",
       "16    1.0000  0.010541          0.96  0.086333         0.0010\n",
       "17    1.0000  0.007675          0.96  0.089064         0.0010\n",
       "18    1.0000  0.007465          0.96  0.088804         0.0002\n",
       "19    1.0000  0.007396          0.96  0.087628         0.0002\n",
       "20    1.0000  0.007861          0.96  0.086890         0.0002\n",
       "21    1.0000  0.006740          0.96  0.088106         0.0002\n",
       "22    1.0000  0.007501          0.96  0.090242         0.0002"
      ]
     },
     "execution_count": 22,
     "metadata": {},
     "output_type": "execute_result"
    }
   ],
   "source": [
    "pd.DataFrame(history.history)\n"
   ]
  },
  {
   "cell_type": "code",
   "execution_count": 23,
   "id": "d744f686",
   "metadata": {},
   "outputs": [
    {
     "data": {
      "image/png": "[encoded data removed]",
      "text/plain": [
       "<Figure size 640x480 with 1 Axes>"
      ]
     },
     "metadata": {},
     "output_type": "display_data"
    }
   ],
   "source": [
    "plt.plot(history.history['accuracy'])\n",
    "plt.plot(history.history['val_accuracy'])\n",
    "plt.title('model accuracy')\n",
    "plt.ylabel('accuracy')\n",
    "plt.xlabel('epoch')\n",
    "plt.legend(['train', 'test'], loc='upper left')\n",
    "plt.show()"
   ]
  },
  {
   "cell_type": "code",
   "execution_count": 24,
   "id": "a6b91760",
   "metadata": {},
   "outputs": [
    {
     "data": {
      "image/png": "[encoded data removed]",
      "text/plain": [
       "<Figure size 640x480 with 1 Axes>"
      ]
     },
     "metadata": {},
     "output_type": "display_data"
    }
   ],
   "source": [
    "plt.plot(history.history['loss'])\n",
    "plt.plot(history.history['val_loss'])\n",
    "plt.title('model loss')\n",
    "plt.ylabel('loss')\n",
    "plt.xlabel('epoch')\n",
    "plt.legend(['train', 'test'], loc='upper left')\n",
    "plt.show()"
   ]
  },
  {
   "cell_type": "code",
   "execution_count": 25,
   "id": "1868c364",
   "metadata": {},
   "outputs": [
    {
     "name": "stdout",
     "output_type": "stream",
     "text": [
      "\u001b[1m4/4\u001b[0m \u001b[32m━━━━━━━━━━━━━━━━━━━━\u001b[0m\u001b[37m\u001b[0m \u001b[1m1s\u001b[0m 125ms/step\n"
     ]
    }
   ],
   "source": [
    "y_pred=model.predict(validation_padded)\n"
   ]
  },
  {
   "cell_type": "code",
   "execution_count": 26,
   "id": "39b4988f",
   "metadata": {},
   "outputs": [
    {
     "name": "stderr",
     "output_type": "stream",
     "text": [
      "100%|████████████████████████████████████████████████████████████████████████████████████████| 100/100 [00:00<?, ?it/s]\n"
     ]
    },
    {
     "data": {
      "text/html": [
       "<div>\n",
       "<style scoped>\n",
       "    .dataframe tbody tr th:only-of-type {\n",
       "        vertical-align: middle;\n",
       "    }\n",
       "\n",
       "    .dataframe tbody tr th {\n",
       "        vertical-align: top;\n",
       "    }\n",
       "\n",
       "    .dataframe thead th {\n",
       "        text-align: right;\n",
       "    }\n",
       "</style>\n",
       "<table border=\"1\" class=\"dataframe\">\n",
       "  <thead>\n",
       "    <tr style=\"text-align: right;\">\n",
       "      <th></th>\n",
       "      <th>Prediction</th>\n",
       "      <th>actual</th>\n",
       "    </tr>\n",
       "  </thead>\n",
       "  <tbody>\n",
       "    <tr>\n",
       "      <th>0</th>\n",
       "      <td>2</td>\n",
       "      <td>2</td>\n",
       "    </tr>\n",
       "    <tr>\n",
       "      <th>1</th>\n",
       "      <td>7</td>\n",
       "      <td>7</td>\n",
       "    </tr>\n",
       "    <tr>\n",
       "      <th>2</th>\n",
       "      <td>6</td>\n",
       "      <td>6</td>\n",
       "    </tr>\n",
       "    <tr>\n",
       "      <th>3</th>\n",
       "      <td>4</td>\n",
       "      <td>4</td>\n",
       "    </tr>\n",
       "    <tr>\n",
       "      <th>4</th>\n",
       "      <td>2</td>\n",
       "      <td>2</td>\n",
       "    </tr>\n",
       "    <tr>\n",
       "      <th>...</th>\n",
       "      <td>...</td>\n",
       "      <td>...</td>\n",
       "    </tr>\n",
       "    <tr>\n",
       "      <th>95</th>\n",
       "      <td>1</td>\n",
       "      <td>1</td>\n",
       "    </tr>\n",
       "    <tr>\n",
       "      <th>96</th>\n",
       "      <td>8</td>\n",
       "      <td>0</td>\n",
       "    </tr>\n",
       "    <tr>\n",
       "      <th>97</th>\n",
       "      <td>2</td>\n",
       "      <td>2</td>\n",
       "    </tr>\n",
       "    <tr>\n",
       "      <th>98</th>\n",
       "      <td>2</td>\n",
       "      <td>1</td>\n",
       "    </tr>\n",
       "    <tr>\n",
       "      <th>99</th>\n",
       "      <td>4</td>\n",
       "      <td>4</td>\n",
       "    </tr>\n",
       "  </tbody>\n",
       "</table>\n",
       "<p>100 rows × 2 columns</p>\n",
       "</div>"
      ],
      "text/plain": [
       "    Prediction  actual\n",
       "0            2       2\n",
       "1            7       7\n",
       "2            6       6\n",
       "3            4       4\n",
       "4            2       2\n",
       "..         ...     ...\n",
       "95           1       1\n",
       "96           8       0\n",
       "97           2       2\n",
       "98           2       1\n",
       "99           4       4\n",
       "\n",
       "[100 rows x 2 columns]"
      ]
     },
     "execution_count": 26,
     "metadata": {},
     "output_type": "execute_result"
    }
   ],
   "source": [
    "pred=[np.argmax(i) for i in tqdm(y_pred)]\n",
    "df=pd.DataFrame()\n",
    "df['Prediction'],df['actual']=pred,validation_label_seq\n",
    "df"
   ]
  },
  {
   "cell_type": "code",
   "execution_count": 27,
   "id": "25ff9a4e",
   "metadata": {},
   "outputs": [
    {
     "data": {
      "image/png": "[encoded data removed]",
      "text/plain": [
       "<Figure size 800x800 with 2 Axes>"
      ]
     },
     "metadata": {},
     "output_type": "display_data"
    },
    {
     "data": {
      "text/plain": [
       "array([[ 4,  0,  0,  0,  0,  0,  0,  0,  1],\n",
       "       [ 0, 18,  1,  0,  0,  0,  0,  0,  0],\n",
       "       [ 0,  0, 18,  0,  0,  0,  0,  0,  0],\n",
       "       [ 0,  0,  0,  8,  0,  0,  0,  0,  0],\n",
       "       [ 0,  0,  0,  0, 10,  0,  0,  0,  0],\n",
       "       [ 0,  0,  0,  0,  0,  5,  0,  0,  0],\n",
       "       [ 0,  0,  0,  0,  0,  0,  7,  0,  0],\n",
       "       [ 0,  0,  0,  0,  0,  0,  0, 18,  0],\n",
       "       [ 0,  0,  0,  0,  0,  0,  0,  0, 10]], dtype=int64)"
      ]
     },
     "execution_count": 27,
     "metadata": {},
     "output_type": "execute_result"
    }
   ],
   "source": [
    "CM = confusion_matrix(validation_label_seq,pred)\n",
    "plt.figure(figsize=(8,8))\n",
    "ax= plt.subplot()\n",
    "sns.heatmap(CM, center = True, fmt='g',ax=ax,annot=True,cmap='Blues_r')\n",
    "ax.set_xlabel('Predicted labels',fontsize=20)\n",
    "ax.set_ylabel('True labels',fontsize=20) \n",
    "ax.set_title('Confusion Matrix',fontsize=20)\n",
    "ax.xaxis.set_ticklabels(dict_.keys()) \n",
    "ax.yaxis.set_ticklabels(dict_.keys())\n",
    "plt.show()\n",
    "CM"
   ]
  },
  {
   "cell_type": "code",
   "execution_count": 28,
   "id": "3a98f542",
   "metadata": {},
   "outputs": [
    {
     "name": "stdout",
     "output_type": "stream",
     "text": [
      "\u001b[1m4/4\u001b[0m \u001b[32m━━━━━━━━━━━━━━━━━━━━\u001b[0m\u001b[37m\u001b[0m \u001b[1m0s\u001b[0m 27ms/step\n",
      "Predicted probabilities shape: (100, 9)\n",
      "Classification Report:n               precision    recall  f1-score   support\n",
      "\n",
      "           0       1.00      0.80      0.89         5\n",
      "           1       1.00      0.95      0.97        19\n",
      "           2       0.95      1.00      0.97        18\n",
      "           3       1.00      1.00      1.00         8\n",
      "           4       1.00      1.00      1.00        10\n",
      "           5       1.00      1.00      1.00         5\n",
      "           6       1.00      1.00      1.00         7\n",
      "           7       1.00      1.00      1.00        18\n",
      "           8       0.91      1.00      0.95        10\n",
      "\n",
      "    accuracy                           0.98       100\n",
      "   macro avg       0.98      0.97      0.98       100\n",
      "weighted avg       0.98      0.98      0.98       100\n",
      "\n",
      "ROC AUC Score: 0.9997050490322967\n",
      "Gini Coefficient: 0.9994100980645935\n",
      "Kolmogorov-Smirnov Statistic: 1.0\n",
      "Kolmogorov-Smirnov p-value: 4.705439488048184e-05\n"
     ]
    }
   ],
   "source": [
    "from sklearn.metrics import classification_report, roc_auc_score\n",
    "from scipy import stats\n",
    "import numpy as np\n",
    "\n",
    "\n",
    "pred_prob = model.predict(validation_padded)\n",
    "\n",
    "\n",
    "print(\"Predicted probabilities shape:\", pred_prob.shape)\n",
    "\n",
    "\n",
    "if len(pred_prob.shape) == 1:\n",
    "    pred_prob = np.expand_dims(pred_prob, axis=1)  \n",
    "\n",
    "\n",
    "if pred_prob.shape[1] == 1:\n",
    "    pred_prob = np.hstack([1 - pred_prob, pred_prob]) \n",
    "\n",
    "\n",
    "pred_labels = np.argmax(pred_prob, axis=1) \n",
    "\n",
    "\n",
    "classification_report_result = classification_report(validation_label_seq, pred_labels)\n",
    "print('Classification Report:n', classification_report_result)\n",
    "\n",
    "\n",
    "roc_auc = roc_auc_score(validation_label_seq, pred_prob, multi_class='ovr')  \n",
    "print('ROC AUC Score:', roc_auc)\n",
    "\n",
    "\n",
    "gini_coefficient = 2 * roc_auc - 1\n",
    "print('Gini Coefficient:', gini_coefficient)\n",
    "\n",
    "\n",
    "ks_statistic, ks_p_value = stats.ks_2samp(pred_prob[validation_label_seq == 0][:, 1], \n",
    "                                           pred_prob[validation_label_seq == 1][:, 1])\n",
    "print('Kolmogorov-Smirnov Statistic:', ks_statistic)\n",
    "print('Kolmogorov-Smirnov p-value:', ks_p_value)\n"
   ]
  },
  {
   "cell_type": "code",
   "execution_count": 29,
   "id": "17b75260",
   "metadata": {},
   "outputs": [],
   "source": [
    "def get_code(N):\n",
    "    for x,y in dict_.items():\n",
    "        if y==N:\n",
    "            return x"
   ]
  },
  {
   "cell_type": "code",
   "execution_count": 30,
   "id": "2d6e707d",
   "metadata": {},
   "outputs": [
    {
     "name": "stdout",
     "output_type": "stream",
     "text": [
      "\u001b[1m1/1\u001b[0m \u001b[32m━━━━━━━━━━━━━━━━━━━━\u001b[0m\u001b[37m\u001b[0m \u001b[1m0s\u001b[0m 34ms/step\n",
      "TAX\n"
     ]
    }
   ],
   "source": [
    "txt = ['Оплата штрафа']\n",
    "\n",
    "\n",
    "seq = tokenizer.texts_to_sequences(txt)\n",
    "padded = pad_sequences(seq, maxlen=max_length)\n",
    "pred = model.predict(padded)\n",
    "\n",
    "print(get_code(np.argmax(pred)))"
   ]
  },
  {
   "cell_type": "code",
   "execution_count": 54,
   "id": "1dc4da11",
   "metadata": {},
   "outputs": [
    {
     "data": {
      "image/png": "[encoded data removed]",
      "text/plain": [
       "<Figure size 1000x600 with 1 Axes>"
      ]
     },
     "metadata": {},
     "output_type": "display_data"
    },
    {
     "name": "stdout",
     "output_type": "stream",
     "text": [
      "95% Confidence Interval for ROC AUC: [0.999, 1.000]\n"
     ]
    }
   ],
   "source": [
    "import numpy as np\n",
    "import matplotlib.pyplot as plt\n",
    "from sklearn.metrics import roc_auc_score\n",
    "from sklearn.utils import resample\n",
    "\n",
    "\n",
    "n_iterations = 10\n",
    "n_size = len(validation_label_seq) \n",
    "\n",
    "\n",
    "bootstrapped_roc_aucs = []\n",
    "\n",
    "\n",
    "for i in range(n_iterations):\n",
    "    indices = resample(range(n_size), n_samples=n_size)\n",
    "    y_true_bs = validation_label_seq[indices]\n",
    "    y_prob_bs = pred_prob[indices]\n",
    "\n",
    "    unique_classes = np.unique(y_true_bs)\n",
    "\n",
    "    if len(unique_classes) == 2: \n",
    "        roc_auc_bs = roc_auc_score(y_true_bs, y_prob_bs[:, 1])  \n",
    "    else:  \n",
    "        if len(unique_classes) != y_prob_bs.shape[1]:\n",
    "            raise ValueError(\"Number of classes in y_true not equal to the number of columns in 'y_prob'\")\n",
    "        roc_auc_bs = roc_auc_score(y_true_bs, y_prob_bs, multi_class='ovr')\n",
    "    \n",
    "    bootstrapped_roc_aucs.append(roc_auc_bs)\n",
    "\n",
    "\n",
    "bootstrapped_roc_aucs = np.array(bootstrapped_roc_aucs)\n",
    "\n",
    "\n",
    "lower_bound = np.percentile(bootstrapped_roc_aucs, 2.5)\n",
    "upper_bound = np.percentile(bootstrapped_roc_aucs, 97.5)\n",
    "\n",
    "\n",
    "plt.figure(figsize=(10, 6))\n",
    "plt.boxplot(bootstrapped_roc_aucs)\n",
    "plt.axvline(lower_bound, color='red', linestyle='dashed', linewidth=2, label=f'2.5%: {lower_bound:.3f}')\n",
    "plt.axvline(upper_bound, color='green', linestyle='dashed', linewidth=2, label=f'97.5%: {upper_bound:.3f}')\n",
    "plt.axvline(np.mean(bootstrapped_roc_aucs), color='orange', linestyle='dashed', linewidth=2, label=f'Mean: {np.mean(bootstrapped_roc_aucs):.3f}')\n",
    "\n",
    "plt.title('Bootstrapped Distribution of ROC AUC')\n",
    "plt.xlabel('ROC AUC')\n",
    "plt.ylabel('Frequency')\n",
    "plt.legend()\n",
    "plt.grid()\n",
    "plt.show()\n",
    "\n",
    "print(f'95% Confidence Interval for ROC AUC: [{lower_bound:.3f}, {upper_bound:.3f}]')\n"
   ]
  },
  {
   "cell_type": "code",
   "execution_count": null,
   "id": "dce1efad",
   "metadata": {},
   "outputs": [],
   "source": []
  },
  {
   "cell_type": "code",
   "execution_count": null,
   "id": "11df77a7",
   "metadata": {},
   "outputs": [],
   "source": []
  }
 ],
 "metadata": {
  "kernelspec": {
   "display_name": "Python 3 (ipykernel)",
   "language": "python",
   "name": "python3"
  },
  "language_info": {
   "codemirror_mode": {
    "name": "ipython",
    "version": 3
   },
   "file_extension": ".py",
   "mimetype": "text/x-python",
   "name": "python",
   "nbconvert_exporter": "python",
   "pygments_lexer": "ipython3",
   "version": "3.10.9"
  }
 },
 "nbformat": 4,
 "nbformat_minor": 5
}
